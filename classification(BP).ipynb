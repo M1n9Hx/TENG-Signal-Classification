{
 "cells": [
  {
   "cell_type": "markdown",
   "source": [
    "## Prepare Library"
   ],
   "metadata": {
    "collapsed": false
   },
   "id": "819eac660725ab0"
  },
  {
   "cell_type": "code",
   "execution_count": 3,
   "outputs": [
    {
     "name": "stderr",
     "output_type": "stream",
     "text": [
      "D:\\Anaconda\\Lib\\site-packages\\torchaudio\\backend\\utils.py:74: UserWarning: No audio backend is available.\n",
      "  warnings.warn(\"No audio backend is available.\")\n"
     ]
    }
   ],
   "source": [
    "import os\n",
    "import torch\n",
    "import torchmetrics\n",
    "from torchmetrics.classification.accuracy import Accuracy\n",
    "import pandas as pd\n",
    "import numpy as np\n",
    "import random\n",
    "import matplotlib.pyplot as plt\n",
    "from sklearn.preprocessing import StandardScaler, MinMaxScaler\n",
    "from torch.autograd import Variable\n",
    "from tqdm.auto import tqdm\n",
    "from scipy import integrate\n",
    "from model import LSTM\n",
    "from random import sample\n",
    "import torch.nn as nn\n",
    "from sklearn.datasets import load_iris\n",
    "from sklearn.model_selection import train_test_split\n",
    "from sklearn.neural_network import MLPClassifier\n",
    "from sklearn.metrics import accuracy_score"
   ],
   "metadata": {
    "collapsed": false,
    "ExecuteTime": {
     "end_time": "2023-12-21T08:41:00.715033100Z",
     "start_time": "2023-12-21T08:40:37.667510200Z"
    }
   },
   "id": "85bd25f01d5d0469"
  },
  {
   "cell_type": "markdown",
   "source": [
    "## Prepare CPU"
   ],
   "metadata": {
    "collapsed": false
   },
   "id": "d24b8002293f8cf2"
  },
  {
   "cell_type": "code",
   "execution_count": null,
   "outputs": [],
   "source": [
    "print(torch.__version__)\n",
    "print(torch.version.cuda)\n",
    "print(torch.cuda.is_available())\n",
    "device = torch.device(\"cuda:0\" if torch.cuda.is_available() else \"cpu\")"
   ],
   "metadata": {
    "collapsed": false
   },
   "id": "f315d7dc0b0430a1"
  },
  {
   "cell_type": "markdown",
   "source": [
    "\n",
    "## Dataset\n"
   ],
   "metadata": {
    "collapsed": false
   },
   "id": "16c004982bf28bd9"
  },
  {
   "cell_type": "code",
   "execution_count": 163,
   "outputs": [
    {
     "name": "stdout",
     "output_type": "stream",
     "text": [
      "lenght of train set: 220\n",
      "lenght of valid set: 40\n",
      "valid set: ['C6_28', 'C5_18', 'C3_44', 'C2_47', 'C5_8', 'C3_13', 'C5_42', 'C3_32', 'C3_26', 'C3_46', 'C3_41', 'C1_24', 'C2_37', 'C2_25', 'C4_47', 'C2_46', 'C1_1', 'C6_44', 'C3_12', 'C1_16', 'C3_18', 'C5_6', 'C6_29', 'C1_11', 'C5_37', 'C1_4', 'C3_36', 'C1_2', 'C4_26', 'C3_16', 'C4_50', 'C3_40', 'C2_35', 'C6_13', 'C5_24', 'C3_2', 'C2_26', 'C1_9', 'C2_19', 'C1_21']\n",
      "lenght of test set: 40\n",
      "test set: ['C1_46', 'C3_7', 'C5_44', 'C5_28', 'C6_22', 'C1_14', 'C4_23', 'C4_25', 'C2_29', 'C3_23', 'C5_9', 'C3_38', 'C5_25', 'C2_49', 'C4_31', 'C4_39', 'C2_50', 'C3_3', 'C1_25', 'C2_32', 'C1_27', 'C2_1', 'C6_3', 'C2_24', 'C4_3', 'C5_45', 'C5_32', 'C1_23', 'C3_19', 'C3_17', 'C2_12', 'C3_43', 'C2_45', 'C4_7', 'C3_34', 'C1_43', 'C6_6', 'C5_49', 'C5_29', 'C3_42']\n"
     ]
    }
   ],
   "source": [
    "\n",
    "Index = ['Channel1', 'Channel2', 'Channel3', 'Channel4', 'Channel5', 'Channel6']\n",
    "\n",
    "Data_path = 'D:/Workspace/TENG-Signal-Classification/dataset/preprocessed'\n",
    "\n",
    "cases = os.listdir(Data_path)\n",
    "\n",
    "random.shuffle(cases)\n",
    "## Load data\n",
    "test_set = cases[:40]\n",
    "\n",
    "valid_set = cases[40:80]\n",
    "\n",
    "train_set = cases[80:]\n",
    "\n",
    "print('lenght of train set:', len(train_set))\n",
    "print('lenght of valid set:', len(valid_set))\n",
    "print('valid set:', valid_set)\n",
    "print('lenght of test set:', len(test_set))\n",
    "print('test set:', test_set)"
   ],
   "metadata": {
    "collapsed": false,
    "ExecuteTime": {
     "end_time": "2023-12-21T09:00:14.244106800Z",
     "start_time": "2023-12-21T09:00:14.232586500Z"
    }
   },
   "id": "824119aea61bd461"
  },
  {
   "cell_type": "markdown",
   "source": [
    "## Load Data"
   ],
   "metadata": {
    "collapsed": false
   },
   "id": "5dd96ab4ab9b1896"
  },
  {
   "cell_type": "code",
   "execution_count": 164,
   "outputs": [
    {
     "name": "stdout",
     "output_type": "stream",
     "text": [
      "| loading train set data..... |\n",
      "| done |\n",
      "| loading valid set data..... |\n",
      "| done |\n",
      "| loading test set data..... |\n",
      "| done |\n",
      "| train set data to tensor..... |\n",
      "| done |\n",
      "| valid data to tensor..... |\n",
      "| done |\n",
      "| test data to tensor..... |\n",
      "| done |\n"
     ]
    }
   ],
   "source": [
    "x_train_data = [] \n",
    "y_train_data = []\n",
    "x_valid_data = []\n",
    "y_valid_data = []\n",
    "x_test_data = []\n",
    "y_test_data = []\n",
    "\n",
    "print('| loading train set data..... |')\n",
    "for case in train_set:\n",
    "    DATA = {}\n",
    "    label = case.split('_')[0]\n",
    "    #   Read csv\n",
    "    file = case + '.csv'\n",
    "    data = pd.read_csv(Data_path + '/' + case + '/' + file, usecols = Index)\n",
    "    #   Convert lable into int\n",
    "    Encode_label = {\n",
    "            'C1': 0,\n",
    "            'C2': 1,\n",
    "            'C3': 2,\n",
    "            'C4': 3,\n",
    "            'C5': 4,\n",
    "            'C6': 5, \n",
    "    }\n",
    "    entropy = pd.value_counts(data['Channel1']) / len(data['Channel1'])\n",
    "    DATA['C1'] = [sum(data['Channel1'].to_numpy()),np.max((data['Channel1'].to_numpy())),np.min((data['Channel1'].to_numpy())),np.mean((data['Channel1'].to_numpy())),np.std((data['Channel1'].to_numpy())),sum(np.log2(entropy) * entropy * (-1))]\n",
    "    entropy = pd.value_counts(data['Channel2']) / len(data['Channel2'])\n",
    "    DATA['C2'] = [sum(data['Channel2'].to_numpy()),np.max((data['Channel2'].to_numpy())),np.min((data['Channel2'].to_numpy())),np.mean((data['Channel2'].to_numpy())),np.std((data['Channel2'].to_numpy())),sum(np.log2(entropy) * entropy * (-1))]\n",
    "    entropy = pd.value_counts(data['Channel3']) / len(data['Channel3'])\n",
    "    DATA['C3'] = [sum(data['Channel3'].to_numpy()),np.max((data['Channel3'].to_numpy())),np.min((data['Channel3'].to_numpy())),np.mean((data['Channel3'].to_numpy())),np.std((data['Channel3'].to_numpy())),sum(np.log2(entropy) * entropy * (-1))]\n",
    "    entropy = pd.value_counts(data['Channel4']) / len(data['Channel4'])\n",
    "    DATA['C4'] = [sum(data['Channel4'].to_numpy()),np.max((data['Channel4'].to_numpy())),np.min((data['Channel4'].to_numpy())),np.mean((data['Channel4'].to_numpy())),np.std((data['Channel4'].to_numpy())),sum(np.log2(entropy) * entropy * (-1))]\n",
    "    entropy = pd.value_counts(data['Channel5']) / len(data['Channel5'])\n",
    "    DATA['C5'] = [sum(data['Channel5'].to_numpy()),np.max((data['Channel5'].to_numpy())),np.min((data['Channel5'].to_numpy())),np.mean((data['Channel5'].to_numpy())),np.std((data['Channel5'].to_numpy())),sum(np.log2(entropy) * entropy * (-1))]\n",
    "    entropy = pd.value_counts(data['Channel6']) / len(data['Channel6'])\n",
    "    DATA['C6'] = [sum(data['Channel6'].to_numpy()),np.max((data['Channel6'].to_numpy())),np.min((data['Channel6'].to_numpy())),np.mean((data['Channel6'].to_numpy())),np.std((data['Channel6'].to_numpy())),sum(np.log2(entropy) * entropy * (-1))]\n",
    "    # x_train_data.append(data)\n",
    "    x_train_data.append(pd.DataFrame.from_dict(DATA, orient='index').T)\n",
    "    y_train_data.append(Encode_label[label])\n",
    "print('| done |')\n",
    "\n",
    "print('| loading valid set data..... |')\n",
    "for case in valid_set:\n",
    "    DATA = {}\n",
    "    label = case.split('_')[0]\n",
    "    #   Read csv\n",
    "    file = case + '.csv'\n",
    "    data = pd.read_csv(Data_path + '/' + case + '/' + file, usecols = Index)\n",
    "    #   Convert lable into int\n",
    "    Encode_label = {\n",
    "            'C1': 0,\n",
    "            'C2': 1,\n",
    "            'C3': 2,\n",
    "            'C4': 3,\n",
    "            'C5': 4,\n",
    "            'C6': 5, \n",
    "    }\n",
    "    entropy = pd.value_counts(data['Channel1']) / len(data['Channel1'])\n",
    "    DATA['C1'] = [sum(data['Channel1'].to_numpy()),np.max((data['Channel1'].to_numpy())),np.min((data['Channel1'].to_numpy())),np.mean((data['Channel1'].to_numpy())),np.std((data['Channel1'].to_numpy())),sum(np.log2(entropy) * entropy * (-1))]\n",
    "    entropy = pd.value_counts(data['Channel2']) / len(data['Channel2'])\n",
    "    DATA['C2'] = [sum(data['Channel2'].to_numpy()),np.max((data['Channel2'].to_numpy())),np.min((data['Channel2'].to_numpy())),np.mean((data['Channel2'].to_numpy())),np.std((data['Channel2'].to_numpy())),sum(np.log2(entropy) * entropy * (-1))]\n",
    "    entropy = pd.value_counts(data['Channel3']) / len(data['Channel3'])\n",
    "    DATA['C3'] = [sum(data['Channel3'].to_numpy()),np.max((data['Channel3'].to_numpy())),np.min((data['Channel3'].to_numpy())),np.mean((data['Channel3'].to_numpy())),np.std((data['Channel3'].to_numpy())),sum(np.log2(entropy) * entropy * (-1))]\n",
    "    entropy = pd.value_counts(data['Channel4']) / len(data['Channel4'])\n",
    "    DATA['C4'] = [sum(data['Channel4'].to_numpy()),np.max((data['Channel4'].to_numpy())),np.min((data['Channel4'].to_numpy())),np.mean((data['Channel4'].to_numpy())),np.std((data['Channel4'].to_numpy())),sum(np.log2(entropy) * entropy * (-1))]\n",
    "    entropy = pd.value_counts(data['Channel5']) / len(data['Channel5'])\n",
    "    DATA['C5'] = [sum(data['Channel5'].to_numpy()),np.max((data['Channel5'].to_numpy())),np.min((data['Channel5'].to_numpy())),np.mean((data['Channel5'].to_numpy())),np.std((data['Channel5'].to_numpy())),sum(np.log2(entropy) * entropy * (-1))]\n",
    "    entropy = pd.value_counts(data['Channel6']) / len(data['Channel6'])\n",
    "    DATA['C6'] = [sum(data['Channel6'].to_numpy()),np.max((data['Channel6'].to_numpy())),np.min((data['Channel6'].to_numpy())),np.mean((data['Channel6'].to_numpy())),np.std((data['Channel6'].to_numpy())),sum(np.log2(entropy) * entropy * (-1))]\n",
    "    # x_valid_data.append(data)\n",
    "    x_valid_data.append(pd.DataFrame.from_dict(DATA, orient='index').T)\n",
    "    y_valid_data.append(Encode_label[label])\n",
    "print('| done |')\n",
    "\n",
    "print('| loading test set data..... |')\n",
    "for case in test_set:\n",
    "    DATA = {}\n",
    "    label = case.split('_')[0]\n",
    "    #   Read csv\n",
    "    file = case + '.csv'\n",
    "    data = pd.read_csv(Data_path + '/' + case + '/' + file, usecols = Index)\n",
    "    #   Convert lable into int\n",
    "    Encode_label = {\n",
    "            'C1': 0,\n",
    "            'C2': 1,\n",
    "            'C3': 2,\n",
    "            'C4': 3,\n",
    "            'C5': 4,\n",
    "            'C6': 5, \n",
    "    }\n",
    "    entropy = pd.value_counts(data['Channel1']) / len(data['Channel1'])\n",
    "    DATA['C1'] = [sum(data['Channel1'].to_numpy()),np.max((data['Channel1'].to_numpy())),np.min((data['Channel1'].to_numpy())),np.mean((data['Channel1'].to_numpy())),np.std((data['Channel1'].to_numpy())),sum(np.log2(entropy) * entropy * (-1))]\n",
    "    entropy = pd.value_counts(data['Channel2']) / len(data['Channel2'])\n",
    "    DATA['C2'] = [sum(data['Channel2'].to_numpy()),np.max((data['Channel2'].to_numpy())),np.min((data['Channel2'].to_numpy())),np.mean((data['Channel2'].to_numpy())),np.std((data['Channel2'].to_numpy())),sum(np.log2(entropy) * entropy * (-1))]\n",
    "    entropy = pd.value_counts(data['Channel3']) / len(data['Channel3'])\n",
    "    DATA['C3'] = [sum(data['Channel3'].to_numpy()),np.max((data['Channel3'].to_numpy())),np.min((data['Channel3'].to_numpy())),np.mean((data['Channel3'].to_numpy())),np.std((data['Channel3'].to_numpy())),sum(np.log2(entropy) * entropy * (-1))]\n",
    "    entropy = pd.value_counts(data['Channel4']) / len(data['Channel4'])\n",
    "    DATA['C4'] = [sum(data['Channel4'].to_numpy()),np.max((data['Channel4'].to_numpy())),np.min((data['Channel4'].to_numpy())),np.mean((data['Channel4'].to_numpy())),np.std((data['Channel4'].to_numpy())),sum(np.log2(entropy) * entropy * (-1))]\n",
    "    entropy = pd.value_counts(data['Channel5']) / len(data['Channel5'])\n",
    "    DATA['C5'] = [sum(data['Channel5'].to_numpy()),np.max((data['Channel5'].to_numpy())),np.min((data['Channel5'].to_numpy())),np.mean((data['Channel5'].to_numpy())),np.std((data['Channel5'].to_numpy())),sum(np.log2(entropy) * entropy * (-1))]\n",
    "    entropy = pd.value_counts(data['Channel6']) / len(data['Channel6'])\n",
    "    DATA['C6'] = [sum(data['Channel6'].to_numpy()),np.max((data['Channel6'].to_numpy())),np.min((data['Channel6'].to_numpy())),np.mean((data['Channel6'].to_numpy())),np.std((data['Channel6'].to_numpy())),sum(np.log2(entropy) * entropy * (-1))]\n",
    "    # x_test_data.append(data)\n",
    "    x_test_data.append(pd.DataFrame.from_dict(DATA, orient='index').T)\n",
    "    y_test_data.append(Encode_label[label])\n",
    "print('| done |')\n",
    "\n",
    "ss = StandardScaler()\n",
    "mm = MinMaxScaler()\n",
    "\n",
    "X_train = []\n",
    "Y_train = []\n",
    "X_valid = []\n",
    "Y_valid = []\n",
    "X_test = []\n",
    "Y_test = []\n",
    "\n",
    "\n",
    "print('| train set data to tensor..... |')\n",
    "## To tensors\n",
    "for i in range(len(train_set)):\n",
    "    X = x_train_data[i]\n",
    "    Y = y_train_data[i]\n",
    "    X_ss = ss.fit_transform(X)\n",
    "\n",
    "    X_train.append(np.asarray(X_ss).flatten())\n",
    "    Y_train.append(Y)\n",
    "print('| done |')\n",
    "\n",
    "print('| valid data to tensor..... |')\n",
    "for i in range(len(valid_set)):\n",
    "    X = x_valid_data[i]\n",
    "    Y = y_valid_data[i]\n",
    "    X_ss = ss.fit_transform(X)\n",
    "    \n",
    "    X_valid.append(np.asarray(X_ss).flatten())\n",
    "    Y_valid.append(Y)\n",
    "print('| done |')\n",
    "\n",
    "print('| test data to tensor..... |')\n",
    "for i in range(len(test_set)):\n",
    "    X = x_test_data[i]\n",
    "    Y = y_test_data[i]\n",
    "    X_ss = ss.fit_transform(X)\n",
    "\n",
    "    X_test.append(np.asarray(X_ss).flatten())\n",
    "    Y_test.append(Y)\n",
    "print('| done |')"
   ],
   "metadata": {
    "collapsed": false,
    "ExecuteTime": {
     "end_time": "2023-12-21T09:00:26.416386200Z",
     "start_time": "2023-12-21T09:00:20.449373600Z"
    }
   },
   "id": "c87fbbfab918529c"
  },
  {
   "cell_type": "markdown",
   "source": [
    "## Training(BP)"
   ],
   "metadata": {
    "collapsed": false
   },
   "id": "eacad5fdda097c71"
  },
  {
   "cell_type": "markdown",
   "source": [],
   "metadata": {
    "collapsed": false
   },
   "id": "334a91e9f6ab626e"
  },
  {
   "cell_type": "code",
   "execution_count": 276,
   "outputs": [
    {
     "data": {
      "text/plain": "MLPClassifier(hidden_layer_sizes=(128,), max_iter=3000, momentum=0.85,\n              random_state=128, solver='sgd')",
      "text/html": "<style>#sk-container-id-123 {color: black;}#sk-container-id-123 pre{padding: 0;}#sk-container-id-123 div.sk-toggleable {background-color: white;}#sk-container-id-123 label.sk-toggleable__label {cursor: pointer;display: block;width: 100%;margin-bottom: 0;padding: 0.3em;box-sizing: border-box;text-align: center;}#sk-container-id-123 label.sk-toggleable__label-arrow:before {content: \"▸\";float: left;margin-right: 0.25em;color: #696969;}#sk-container-id-123 label.sk-toggleable__label-arrow:hover:before {color: black;}#sk-container-id-123 div.sk-estimator:hover label.sk-toggleable__label-arrow:before {color: black;}#sk-container-id-123 div.sk-toggleable__content {max-height: 0;max-width: 0;overflow: hidden;text-align: left;background-color: #f0f8ff;}#sk-container-id-123 div.sk-toggleable__content pre {margin: 0.2em;color: black;border-radius: 0.25em;background-color: #f0f8ff;}#sk-container-id-123 input.sk-toggleable__control:checked~div.sk-toggleable__content {max-height: 200px;max-width: 100%;overflow: auto;}#sk-container-id-123 input.sk-toggleable__control:checked~label.sk-toggleable__label-arrow:before {content: \"▾\";}#sk-container-id-123 div.sk-estimator input.sk-toggleable__control:checked~label.sk-toggleable__label {background-color: #d4ebff;}#sk-container-id-123 div.sk-label input.sk-toggleable__control:checked~label.sk-toggleable__label {background-color: #d4ebff;}#sk-container-id-123 input.sk-hidden--visually {border: 0;clip: rect(1px 1px 1px 1px);clip: rect(1px, 1px, 1px, 1px);height: 1px;margin: -1px;overflow: hidden;padding: 0;position: absolute;width: 1px;}#sk-container-id-123 div.sk-estimator {font-family: monospace;background-color: #f0f8ff;border: 1px dotted black;border-radius: 0.25em;box-sizing: border-box;margin-bottom: 0.5em;}#sk-container-id-123 div.sk-estimator:hover {background-color: #d4ebff;}#sk-container-id-123 div.sk-parallel-item::after {content: \"\";width: 100%;border-bottom: 1px solid gray;flex-grow: 1;}#sk-container-id-123 div.sk-label:hover label.sk-toggleable__label {background-color: #d4ebff;}#sk-container-id-123 div.sk-serial::before {content: \"\";position: absolute;border-left: 1px solid gray;box-sizing: border-box;top: 0;bottom: 0;left: 50%;z-index: 0;}#sk-container-id-123 div.sk-serial {display: flex;flex-direction: column;align-items: center;background-color: white;padding-right: 0.2em;padding-left: 0.2em;position: relative;}#sk-container-id-123 div.sk-item {position: relative;z-index: 1;}#sk-container-id-123 div.sk-parallel {display: flex;align-items: stretch;justify-content: center;background-color: white;position: relative;}#sk-container-id-123 div.sk-item::before, #sk-container-id-123 div.sk-parallel-item::before {content: \"\";position: absolute;border-left: 1px solid gray;box-sizing: border-box;top: 0;bottom: 0;left: 50%;z-index: -1;}#sk-container-id-123 div.sk-parallel-item {display: flex;flex-direction: column;z-index: 1;position: relative;background-color: white;}#sk-container-id-123 div.sk-parallel-item:first-child::after {align-self: flex-end;width: 50%;}#sk-container-id-123 div.sk-parallel-item:last-child::after {align-self: flex-start;width: 50%;}#sk-container-id-123 div.sk-parallel-item:only-child::after {width: 0;}#sk-container-id-123 div.sk-dashed-wrapped {border: 1px dashed gray;margin: 0 0.4em 0.5em 0.4em;box-sizing: border-box;padding-bottom: 0.4em;background-color: white;}#sk-container-id-123 div.sk-label label {font-family: monospace;font-weight: bold;display: inline-block;line-height: 1.2em;}#sk-container-id-123 div.sk-label-container {text-align: center;}#sk-container-id-123 div.sk-container {/* jupyter's `normalize.less` sets `[hidden] { display: none; }` but bootstrap.min.css set `[hidden] { display: none !important; }` so we also need the `!important` here to be able to override the default hidden behavior on the sphinx rendered scikit-learn.org. See: https://github.com/scikit-learn/scikit-learn/issues/21755 */display: inline-block !important;position: relative;}#sk-container-id-123 div.sk-text-repr-fallback {display: none;}</style><div id=\"sk-container-id-123\" class=\"sk-top-container\"><div class=\"sk-text-repr-fallback\"><pre>MLPClassifier(hidden_layer_sizes=(128,), max_iter=3000, momentum=0.85,\n              random_state=128, solver=&#x27;sgd&#x27;)</pre><b>In a Jupyter environment, please rerun this cell to show the HTML representation or trust the notebook. <br />On GitHub, the HTML representation is unable to render, please try loading this page with nbviewer.org.</b></div><div class=\"sk-container\" hidden><div class=\"sk-item\"><div class=\"sk-estimator sk-toggleable\"><input class=\"sk-toggleable__control sk-hidden--visually\" id=\"sk-estimator-id-123\" type=\"checkbox\" checked><label for=\"sk-estimator-id-123\" class=\"sk-toggleable__label sk-toggleable__label-arrow\">MLPClassifier</label><div class=\"sk-toggleable__content\"><pre>MLPClassifier(hidden_layer_sizes=(128,), max_iter=3000, momentum=0.85,\n              random_state=128, solver=&#x27;sgd&#x27;)</pre></div></div></div></div></div>"
     },
     "execution_count": 276,
     "metadata": {},
     "output_type": "execute_result"
    }
   ],
   "source": [
    "\n",
    "mlp = MLPClassifier(hidden_layer_sizes=(128,), activation='relu', solver='sgd',  nesterovs_momentum=True, momentum=0.85, alpha=0.0001, max_iter=3000, random_state = 128)\n",
    "mlp.fit(X_train, np.asarray(Y_train)) \n"
   ],
   "metadata": {
    "collapsed": true,
    "ExecuteTime": {
     "end_time": "2023-12-21T09:29:49.177053300Z",
     "start_time": "2023-12-21T09:29:46.011417800Z"
    }
   },
   "id": "initial_id"
  },
  {
   "cell_type": "code",
   "execution_count": 277,
   "outputs": [
    {
     "name": "stdout",
     "output_type": "stream",
     "text": [
      "0.8\n"
     ]
    }
   ],
   "source": [
    "Y_pred = mlp.predict(X_test)\n",
    "accuracy = accuracy_score(Y_test,Y_pred)\n",
    "print(accuracy)"
   ],
   "metadata": {
    "collapsed": false,
    "ExecuteTime": {
     "end_time": "2023-12-21T09:29:49.178050500Z",
     "start_time": "2023-12-21T09:29:49.171524Z"
    }
   },
   "id": "3804c5480f033a23"
  }
 ],
 "metadata": {
  "kernelspec": {
   "display_name": "Python 3",
   "language": "python",
   "name": "python3"
  },
  "language_info": {
   "codemirror_mode": {
    "name": "ipython",
    "version": 2
   },
   "file_extension": ".py",
   "mimetype": "text/x-python",
   "name": "python",
   "nbconvert_exporter": "python",
   "pygments_lexer": "ipython2",
   "version": "2.7.6"
  }
 },
 "nbformat": 4,
 "nbformat_minor": 5
}
