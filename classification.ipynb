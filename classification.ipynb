{
 "cells": [
  {
   "cell_type": "markdown",
   "source": [
    "## Prepare Library"
   ],
   "metadata": {
    "collapsed": false
   }
  },
  {
   "cell_type": "code",
   "execution_count": 146,
   "metadata": {
    "collapsed": true,
    "pycharm": {
     "is_executing": false
    },
    "ExecuteTime": {
     "end_time": "2023-12-21T08:03:39.642626100Z",
     "start_time": "2023-12-21T08:03:39.344255400Z"
    }
   },
   "outputs": [],
   "source": [
    "import os\n",
    "import torch\n",
    "import torchmetrics\n",
    "from torchmetrics.classification.accuracy import Accuracy\n",
    "import pandas as pd \n",
    "import numpy as np\n",
    "import random\n",
    "import matplotlib.pyplot as plt\n",
    "from sklearn.preprocessing import StandardScaler, MinMaxScaler\n",
    "from torch.autograd import Variable \n",
    "from tqdm.auto import tqdm\n",
    "from scipy import integrate\n",
    "from model import LSTM\n",
    "from random import sample\n",
    "import torch.nn as nn\n",
    "from sklearn.datasets import load_iris\n",
    "from sklearn.neural_network import MLPClassifier\n",
    "from sklearn.metrics import accuracy_score\n"
   ]
  },
  {
   "cell_type": "markdown",
   "source": [
    "## Prepare CPU"
   ],
   "metadata": {
    "collapsed": false
   }
  },
  {
   "cell_type": "code",
   "execution_count": 2,
   "outputs": [
    {
     "name": "stdout",
     "output_type": "stream",
     "text": [
      "2.0.1+cpu\n",
      "None\n",
      "False\n"
     ]
    }
   ],
   "source": [
    "print(torch.__version__ )\n",
    "print(torch.version.cuda)\n",
    "print(torch.cuda.is_available())\n",
    "device = torch.device(\"cuda:0\" if torch.cuda.is_available() else \"cpu\")"
   ],
   "metadata": {
    "collapsed": false,
    "pycharm": {
     "name": "#%%\n",
     "is_executing": false
    },
    "ExecuteTime": {
     "end_time": "2023-12-21T04:58:17.160554100Z",
     "start_time": "2023-12-21T04:58:17.155562800Z"
    }
   }
  },
  {
   "cell_type": "markdown",
   "source": [
    "## Dataset"
   ],
   "metadata": {
    "collapsed": false
   }
  },
  {
   "cell_type": "code",
   "execution_count": 98,
   "outputs": [],
   "source": [
    "Index = ['Channel1', 'Channel2', 'Channel3', 'Channel4', 'Channel5', 'Channel6']\n",
    "\n",
    "Data_path = 'D:/Workspace/TENG-Signal-Classification/dataset/preprocessed'\n",
    "\n",
    "cases = os.listdir(Data_path)\n",
    "\n",
    "random.shuffle(cases)"
   ],
   "metadata": {
    "collapsed": false,
    "pycharm": {
     "name": "#%%\n",
     "is_executing": false
    },
    "ExecuteTime": {
     "end_time": "2023-12-21T06:29:32.419464400Z",
     "start_time": "2023-12-21T06:29:32.403951700Z"
    }
   }
  },
  {
   "cell_type": "markdown",
   "source": [
    "## Load data"
   ],
   "metadata": {
    "collapsed": false
   }
  },
  {
   "cell_type": "code",
   "execution_count": 99,
   "outputs": [
    {
     "name": "stdout",
     "output_type": "stream",
     "text": [
      "lenght of train set: 220\n",
      "lenght of valid set: 40\n",
      "valid set: ['C5_2', 'C3_50', 'C1_48', 'C1_12', 'C5_45', 'C3_29', 'C2_9', 'C1_34', 'C1_6', 'C5_3', 'C1_32', 'C3_43', 'C6_10', 'C1_26', 'C3_46', 'C3_5', 'C5_30', 'C6_22', 'C6_30', 'C4_47', 'C6_6', 'C6_36', 'C3_10', 'C5_24', 'C5_21', 'C4_29', 'C6_38', 'C6_29', 'C3_37', 'C2_45', 'C3_45', 'C5_17', 'C3_13', 'C2_20', 'C4_1', 'C1_31', 'C4_2', 'C4_46', 'C1_47', 'C6_31']\n",
      "lenght of test set: 40\n",
      "test set: ['C4_43', 'C1_42', 'C1_3', 'C6_24', 'C4_21', 'C3_18', 'C6_39', 'C1_7', 'C1_45', 'C4_27', 'C6_43', 'C5_22', 'C6_14', 'C6_50', 'C5_33', 'C6_46', 'C2_27', 'C6_12', 'C2_6', 'C4_16', 'C4_15', 'C5_34', 'C5_13', 'C2_23', 'C5_32', 'C3_44', 'C2_22', 'C2_39', 'C4_28', 'C3_42', 'C2_36', 'C6_25', 'C3_49', 'C3_17', 'C2_46', 'C3_14', 'C5_37', 'C6_32', 'C5_5', 'C4_38']\n"
     ]
    }
   ],
   "source": [
    "test_set = cases[:40]\n",
    "\n",
    "valid_set = cases[40:80]\n",
    "\n",
    "train_set = cases[80:]\n",
    "\n",
    "print('lenght of train set:', len(train_set))\n",
    "print('lenght of valid set:', len(valid_set))\n",
    "print('valid set:', valid_set)\n",
    "print('lenght of test set:', len(test_set))\n",
    "print('test set:', test_set)"
   ],
   "metadata": {
    "collapsed": false,
    "pycharm": {
     "name": "#%%\n",
     "is_executing": false
    },
    "ExecuteTime": {
     "end_time": "2023-12-21T06:29:33.714027100Z",
     "start_time": "2023-12-21T06:29:33.705792400Z"
    }
   }
  },
  {
   "cell_type": "code",
   "execution_count": 139,
   "outputs": [
    {
     "name": "stdout",
     "output_type": "stream",
     "text": [
      "| loading train set data..... |\n",
      "| done |\n",
      "| loading valid set data..... |\n",
      "| done |\n",
      "| loading test set data..... |\n",
      "| done |\n",
      "| train set data to tensor..... |\n",
      "| done |\n",
      "| valid data to tensor..... |\n",
      "| done |\n",
      "| test data to tensor..... |\n",
      "| done |\n"
     ]
    }
   ],
   "source": [
    "x_train_data = [] \n",
    "y_train_data = []\n",
    "x_valid_data = []\n",
    "y_valid_data = []\n",
    "x_test_data = []\n",
    "y_test_data = []\n",
    "\n",
    "print('| loading train set data..... |')\n",
    "for case in train_set:\n",
    "    DATA = {}\n",
    "    label = case.split('_')[0]\n",
    "    #   Read csv\n",
    "    file = case + '.csv'\n",
    "    data = pd.read_csv(Data_path + '/' + case + '/' + file, usecols = Index)\n",
    "    #   Convert lable into int\n",
    "    Encode_label = {\n",
    "            'C1': 0,\n",
    "            'C2': 1,\n",
    "            'C3': 2,\n",
    "            'C4': 3,\n",
    "            'C5': 4,\n",
    "            'C6': 5, \n",
    "    }\n",
    "    entropy = pd.value_counts(data['Channel1']) / len(data['Channel1'])\n",
    "    DATA['C1'] = [sum(data['Channel1'].to_numpy()),np.max((data['Channel1'].to_numpy())),np.min((data['Channel1'].to_numpy())),np.mean((data['Channel1'].to_numpy())),np.std((data['Channel1'].to_numpy())),sum(np.log2(entropy) * entropy * (-1))]\n",
    "    entropy = pd.value_counts(data['Channel2']) / len(data['Channel2'])\n",
    "    DATA['C2'] = [sum(data['Channel2'].to_numpy()),np.max((data['Channel2'].to_numpy())),np.min((data['Channel2'].to_numpy())),np.mean((data['Channel2'].to_numpy())),np.std((data['Channel2'].to_numpy())),sum(np.log2(entropy) * entropy * (-1))]\n",
    "    entropy = pd.value_counts(data['Channel3']) / len(data['Channel3'])\n",
    "    DATA['C3'] = [sum(data['Channel3'].to_numpy()),np.max((data['Channel3'].to_numpy())),np.min((data['Channel3'].to_numpy())),np.mean((data['Channel3'].to_numpy())),np.std((data['Channel3'].to_numpy())),sum(np.log2(entropy) * entropy * (-1))]\n",
    "    entropy = pd.value_counts(data['Channel4']) / len(data['Channel4'])\n",
    "    DATA['C4'] = [sum(data['Channel4'].to_numpy()),np.max((data['Channel4'].to_numpy())),np.min((data['Channel4'].to_numpy())),np.mean((data['Channel4'].to_numpy())),np.std((data['Channel4'].to_numpy())),sum(np.log2(entropy) * entropy * (-1))]\n",
    "    entropy = pd.value_counts(data['Channel5']) / len(data['Channel5'])\n",
    "    DATA['C5'] = [sum(data['Channel5'].to_numpy()),np.max((data['Channel5'].to_numpy())),np.min((data['Channel5'].to_numpy())),np.mean((data['Channel5'].to_numpy())),np.std((data['Channel5'].to_numpy())),sum(np.log2(entropy) * entropy * (-1))]\n",
    "    entropy = pd.value_counts(data['Channel6']) / len(data['Channel6'])\n",
    "    DATA['C6'] = [sum(data['Channel6'].to_numpy()),np.max((data['Channel6'].to_numpy())),np.min((data['Channel6'].to_numpy())),np.mean((data['Channel6'].to_numpy())),np.std((data['Channel6'].to_numpy())),sum(np.log2(entropy) * entropy * (-1))]\n",
    "    # x_train_data.append(data)\n",
    "    x_train_data.append(pd.DataFrame.from_dict(DATA, orient='index').T)\n",
    "    y_train_data.append(Encode_label[label])\n",
    "print('| done |')\n",
    "\n",
    "print('| loading valid set data..... |')\n",
    "for case in valid_set:\n",
    "    DATA = {}\n",
    "    label = case.split('_')[0]\n",
    "    #   Read csv\n",
    "    file = case + '.csv'\n",
    "    data = pd.read_csv(Data_path + '/' + case + '/' + file, usecols = Index)\n",
    "    #   Convert lable into int\n",
    "    Encode_label = {\n",
    "            'C1': 0,\n",
    "            'C2': 1,\n",
    "            'C3': 2,\n",
    "            'C4': 3,\n",
    "            'C5': 4,\n",
    "            'C6': 5, \n",
    "    }\n",
    "    entropy = pd.value_counts(data['Channel1']) / len(data['Channel1'])\n",
    "    DATA['C1'] = [sum(data['Channel1'].to_numpy()),np.max((data['Channel1'].to_numpy())),np.min((data['Channel1'].to_numpy())),np.mean((data['Channel1'].to_numpy())),np.std((data['Channel1'].to_numpy())),sum(np.log2(entropy) * entropy * (-1))]\n",
    "    entropy = pd.value_counts(data['Channel2']) / len(data['Channel2'])\n",
    "    DATA['C2'] = [sum(data['Channel2'].to_numpy()),np.max((data['Channel2'].to_numpy())),np.min((data['Channel2'].to_numpy())),np.mean((data['Channel2'].to_numpy())),np.std((data['Channel2'].to_numpy())),sum(np.log2(entropy) * entropy * (-1))]\n",
    "    entropy = pd.value_counts(data['Channel3']) / len(data['Channel3'])\n",
    "    DATA['C3'] = [sum(data['Channel3'].to_numpy()),np.max((data['Channel3'].to_numpy())),np.min((data['Channel3'].to_numpy())),np.mean((data['Channel3'].to_numpy())),np.std((data['Channel3'].to_numpy())),sum(np.log2(entropy) * entropy * (-1))]\n",
    "    entropy = pd.value_counts(data['Channel4']) / len(data['Channel4'])\n",
    "    DATA['C4'] = [sum(data['Channel4'].to_numpy()),np.max((data['Channel4'].to_numpy())),np.min((data['Channel4'].to_numpy())),np.mean((data['Channel4'].to_numpy())),np.std((data['Channel4'].to_numpy())),sum(np.log2(entropy) * entropy * (-1))]\n",
    "    entropy = pd.value_counts(data['Channel5']) / len(data['Channel5'])\n",
    "    DATA['C5'] = [sum(data['Channel5'].to_numpy()),np.max((data['Channel5'].to_numpy())),np.min((data['Channel5'].to_numpy())),np.mean((data['Channel5'].to_numpy())),np.std((data['Channel5'].to_numpy())),sum(np.log2(entropy) * entropy * (-1))]\n",
    "    entropy = pd.value_counts(data['Channel6']) / len(data['Channel6'])\n",
    "    DATA['C6'] = [sum(data['Channel6'].to_numpy()),np.max((data['Channel6'].to_numpy())),np.min((data['Channel6'].to_numpy())),np.mean((data['Channel6'].to_numpy())),np.std((data['Channel6'].to_numpy())),sum(np.log2(entropy) * entropy * (-1))]\n",
    "    # x_valid_data.append(data)\n",
    "    x_valid_data.append(pd.DataFrame.from_dict(DATA, orient='index').T)\n",
    "    y_valid_data.append(Encode_label[label])\n",
    "print('| done |')\n",
    "\n",
    "print('| loading test set data..... |')\n",
    "for case in test_set:\n",
    "    DATA = {}\n",
    "    label = case.split('_')[0]\n",
    "    #   Read csv\n",
    "    file = case + '.csv'\n",
    "    data = pd.read_csv(Data_path + '/' + case + '/' + file, usecols = Index)\n",
    "    #   Convert lable into int\n",
    "    Encode_label = {\n",
    "            'C1': 0,\n",
    "            'C2': 1,\n",
    "            'C3': 2,\n",
    "            'C4': 3,\n",
    "            'C5': 4,\n",
    "            'C6': 5, \n",
    "    }\n",
    "    entropy = pd.value_counts(data['Channel1']) / len(data['Channel1'])\n",
    "    DATA['C1'] = [sum(data['Channel1'].to_numpy()),np.max((data['Channel1'].to_numpy())),np.min((data['Channel1'].to_numpy())),np.mean((data['Channel1'].to_numpy())),np.std((data['Channel1'].to_numpy())),sum(np.log2(entropy) * entropy * (-1))]\n",
    "    entropy = pd.value_counts(data['Channel2']) / len(data['Channel2'])\n",
    "    DATA['C2'] = [sum(data['Channel2'].to_numpy()),np.max((data['Channel2'].to_numpy())),np.min((data['Channel2'].to_numpy())),np.mean((data['Channel2'].to_numpy())),np.std((data['Channel2'].to_numpy())),sum(np.log2(entropy) * entropy * (-1))]\n",
    "    entropy = pd.value_counts(data['Channel3']) / len(data['Channel3'])\n",
    "    DATA['C3'] = [sum(data['Channel3'].to_numpy()),np.max((data['Channel3'].to_numpy())),np.min((data['Channel3'].to_numpy())),np.mean((data['Channel3'].to_numpy())),np.std((data['Channel3'].to_numpy())),sum(np.log2(entropy) * entropy * (-1))]\n",
    "    entropy = pd.value_counts(data['Channel4']) / len(data['Channel4'])\n",
    "    DATA['C4'] = [sum(data['Channel4'].to_numpy()),np.max((data['Channel4'].to_numpy())),np.min((data['Channel4'].to_numpy())),np.mean((data['Channel4'].to_numpy())),np.std((data['Channel4'].to_numpy())),sum(np.log2(entropy) * entropy * (-1))]\n",
    "    entropy = pd.value_counts(data['Channel5']) / len(data['Channel5'])\n",
    "    DATA['C5'] = [sum(data['Channel5'].to_numpy()),np.max((data['Channel5'].to_numpy())),np.min((data['Channel5'].to_numpy())),np.mean((data['Channel5'].to_numpy())),np.std((data['Channel5'].to_numpy())),sum(np.log2(entropy) * entropy * (-1))]\n",
    "    entropy = pd.value_counts(data['Channel6']) / len(data['Channel6'])\n",
    "    DATA['C6'] = [sum(data['Channel6'].to_numpy()),np.max((data['Channel6'].to_numpy())),np.min((data['Channel6'].to_numpy())),np.mean((data['Channel6'].to_numpy())),np.std((data['Channel6'].to_numpy())),sum(np.log2(entropy) * entropy * (-1))]\n",
    "    # x_test_data.append(data)\n",
    "    x_test_data.append(pd.DataFrame.from_dict(DATA, orient='index').T)\n",
    "    y_test_data.append(Encode_label[label])\n",
    "print('| done |')\n",
    "\n",
    "ss = StandardScaler()\n",
    "mm = MinMaxScaler()\n",
    "\n",
    "X_train_tensors = []\n",
    "Y_train_tensors = []\n",
    "X_valid_tensors = []\n",
    "Y_valid_tensors = []\n",
    "X_test_tensors = []\n",
    "Y_test_tensors = []\n",
    "\n",
    "\n",
    "print('| train set data to tensor..... |')\n",
    "## To tensors\n",
    "for i in range(len(train_set)):\n",
    "    X = x_train_data[i]\n",
    "    Y = y_train_data[i]\n",
    "    X_ss = ss.fit_transform(X)\n",
    "    \n",
    "    X_tensors = torch.Tensor(X_ss)\n",
    "    Y_tensors = torch.tensor(Y)\n",
    "\n",
    "    X_train_tensors.append(X_tensors.to(device))\n",
    "    Y_train_tensors.append(Y_tensors.to(device))\n",
    "print('| done |')\n",
    "\n",
    "print('| valid data to tensor..... |')\n",
    "for i in range(len(valid_set)):\n",
    "    X = x_valid_data[i]\n",
    "    Y = y_valid_data[i]\n",
    "    X_ss = ss.fit_transform(X)\n",
    "    \n",
    "    X_tensors = torch.Tensor(X_ss)\n",
    "    Y_tensors = torch.tensor(Y)\n",
    "\n",
    "    X_valid_tensors.append(X_tensors.to(device))\n",
    "    Y_valid_tensors.append(Y_tensors.to(device))\n",
    "print('| done |')\n",
    "\n",
    "print('| test data to tensor..... |')\n",
    "for i in range(len(test_set)):\n",
    "    X = x_test_data[i]\n",
    "    Y = y_test_data[i]\n",
    "    X_ss = ss.fit_transform(X)\n",
    "    \n",
    "    X_tensors = torch.Tensor(X_ss)\n",
    "    Y_tensors = torch.tensor(Y)\n",
    "\n",
    "    X_test_tensors.append(X_tensors.to(device))\n",
    "    Y_test_tensors.append(Y_tensors.to(device))\n",
    "print('| done |')"
   ],
   "metadata": {
    "collapsed": false,
    "pycharm": {
     "name": "#%%\n",
     "is_executing": false
    },
    "ExecuteTime": {
     "end_time": "2023-12-21T07:50:25.250908300Z",
     "start_time": "2023-12-21T07:50:21.309811900Z"
    }
   }
  },
  {
   "cell_type": "code",
   "execution_count": 142,
   "outputs": [
    {
     "data": {
      "text/plain": "array([[ 1.4676967 , -2.15629236, -2.04527033,  0.07324145, -1.87283018,\n         2.151483  ],\n       [ 0.78049491,  0.60678442,  0.90033149,  2.12826166,  1.21570938,\n         0.03887755],\n       [-1.77597792, -0.14666763, -0.42247785, -0.95914584, -0.65802321,\n        -0.90232918],\n       [-0.19652155,  0.54509428,  0.480482  , -0.49222749,  0.39898425,\n        -0.44788777],\n       [-0.08319854,  0.59880754,  0.59918311, -0.27128137,  0.4948256 ,\n        -0.38935194],\n       [-0.1924936 ,  0.55227375,  0.48775158, -0.4788484 ,  0.42133416,\n        -0.45079165]])"
     },
     "execution_count": 142,
     "metadata": {},
     "output_type": "execute_result"
    }
   ],
   "source": [
    "X_train_tensors[2]"
   ],
   "metadata": {
    "collapsed": false,
    "ExecuteTime": {
     "end_time": "2023-12-21T07:50:50.942317700Z",
     "start_time": "2023-12-21T07:50:50.931557100Z"
    }
   }
  },
  {
   "cell_type": "code",
   "execution_count": 51,
   "outputs": [
    {
     "data": {
      "text/plain": "tensor([[-0.0722,  0.0239,  0.0358, -0.0826,  0.0582,  0.0373],\n        [ 0.0719,  0.0805,  0.1111,  0.1261, -0.0163, -0.1598],\n        [ 0.0782, -0.0127,  0.0479, -0.3041,  0.1017, -0.1197],\n        [-0.0923,  0.0925,  0.0639, -0.0374,  0.0525,  0.0018],\n        [ 0.0855, -0.0062, -0.0051,  0.0338, -0.0510,  0.1125],\n        [-0.0083, -0.1643, -0.0779, -0.1184, -0.0316, -0.0999]])"
     },
     "execution_count": 51,
     "metadata": {},
     "output_type": "execute_result"
    }
   ],
   "source": [
    "random_noise = torch.Tensor(0.1 * np.random.randn(6,6))"
   ],
   "metadata": {
    "collapsed": false
   }
  },
  {
   "cell_type": "markdown",
   "source": [
    "## Training (LSTM)"
   ],
   "metadata": {
    "collapsed": false
   }
  },
  {
   "cell_type": "code",
   "execution_count": 116,
   "outputs": [],
   "source": [
    "num_epochs = 100\n",
    "learning_rate = 5e-4\n",
    "\n",
    "n_features = len(Index) #number of features\n",
    "n_hidden = 64 #number of features in hidden state\n",
    "n_layers = 2 #number of stacked lstm layers\n",
    "n_classes = 6 #number of output classes \n",
    "dropout = 0.2\n",
    "device = torch.device(\"cuda:0\" if torch.cuda.is_available() else \"cpu\")"
   ],
   "metadata": {
    "collapsed": false,
    "pycharm": {
     "name": "#%%  \n",
     "is_executing": false
    },
    "ExecuteTime": {
     "end_time": "2023-12-21T06:44:53.387566900Z",
     "start_time": "2023-12-21T06:44:53.349934700Z"
    }
   }
  },
  {
   "cell_type": "code",
   "execution_count": 133,
   "outputs": [
    {
     "data": {
      "text/plain": "  0%|          | 0/100 [00:00<?, ?it/s]",
      "application/vnd.jupyter.widget-view+json": {
       "version_major": 2,
       "version_minor": 0,
       "model_id": "3841657c29cc48e89d6f9ec0cf89e24f"
      }
     },
     "metadata": {},
     "output_type": "display_data"
    },
    {
     "name": "stdout",
     "output_type": "stream",
     "text": [
      "Epoch: 0 | train loss: 1.79321, best: 1.79321 | accuracy: 0.15909, best: 0.15909\n",
      "         | valid loss: 1.78643, best: 1.78643 | accuracy: 0.20000, best: 0.20000\n",
      "Epoch: 1 | train loss: 1.76121, best: 1.76121 | accuracy: 0.24545, best: 0.24545\n",
      "         | valid loss: 1.75539, best: 1.75539 | accuracy: 0.22500, best: 0.22500\n",
      "Epoch: 2 | train loss: 1.62839, best: 1.62839 | accuracy: 0.36364, best: 0.36364\n",
      "         | valid loss: 1.69707, best: 1.69707 | accuracy: 0.35000, best: 0.35000\n",
      "Epoch: 3 | train loss: 1.54941, best: 1.54941 | accuracy: 0.44091, best: 0.44091\n",
      "         | valid loss: 1.59450, best: 1.59450 | accuracy: 0.47500, best: 0.47500\n",
      "Epoch: 4 | train loss: 1.48268, best: 1.48268 | accuracy: 0.50455, best: 0.50455\n",
      "         | valid loss: 1.43380, best: 1.43380 | accuracy: 0.50000, best: 0.50000\n",
      "Epoch: 5 | train loss: 1.41251, best: 1.41251 | accuracy: 0.57273, best: 0.57273\n",
      "         | valid loss: 1.36550, best: 1.36550 | accuracy: 0.52500, best: 0.52500\n",
      "Epoch: 6 | train loss: 1.36772, best: 1.36772 | accuracy: 0.57727, best: 0.57727\n",
      "         | valid loss: 1.33040, best: 1.33040 | accuracy: 0.52500, best: 0.52500\n",
      "Epoch: 7 | train loss: 1.32911, best: 1.32911 | accuracy: 0.60909, best: 0.60909\n",
      "         | valid loss: 1.30599, best: 1.30599 | accuracy: 0.60000, best: 0.60000\n",
      "Epoch: 8 | train loss: 1.31308, best: 1.31308 | accuracy: 0.64091, best: 0.64091\n",
      "         | valid loss: 1.28627, best: 1.28627 | accuracy: 0.55000, best: 0.60000\n",
      "Epoch: 9 | train loss: 1.30822, best: 1.30822 | accuracy: 0.61818, best: 0.64091\n",
      "         | valid loss: 1.28199, best: 1.28199 | accuracy: 0.57500, best: 0.60000\n",
      "Epoch: 10| train loss: 1.30528, best: 1.30528 | accuracy: 0.62273, best: 0.64091\n",
      "         | valid loss: 1.23962, best: 1.23962 | accuracy: 0.62500, best: 0.62500\n",
      "Epoch: 11| train loss: 1.27308, best: 1.27308 | accuracy: 0.62727, best: 0.64091\n",
      "         | valid loss: 1.24308, best: 1.23962 | accuracy: 0.62500, best: 0.62500\n",
      "Epoch: 12| train loss: 1.26601, best: 1.26601 | accuracy: 0.61818, best: 0.64091\n",
      "         | valid loss: 1.19482, best: 1.19482 | accuracy: 0.65000, best: 0.65000\n",
      "Epoch: 13| train loss: 1.27927, best: 1.26601 | accuracy: 0.64091, best: 0.64091\n",
      "         | valid loss: 1.16176, best: 1.16176 | accuracy: 0.60000, best: 0.65000\n",
      "Epoch: 14| train loss: 1.25554, best: 1.25554 | accuracy: 0.65455, best: 0.65455\n",
      "         | valid loss: 1.11937, best: 1.11937 | accuracy: 0.60000, best: 0.65000\n",
      "Epoch: 15| train loss: 1.23807, best: 1.23807 | accuracy: 0.64091, best: 0.65455\n",
      "         | valid loss: 1.11190, best: 1.11190 | accuracy: 0.60000, best: 0.65000\n",
      "Epoch: 16| train loss: 1.23875, best: 1.23807 | accuracy: 0.64091, best: 0.65455\n",
      "         | valid loss: 1.10279, best: 1.10279 | accuracy: 0.62500, best: 0.65000\n",
      "Epoch: 17| train loss: 1.19857, best: 1.19857 | accuracy: 0.66818, best: 0.66818\n",
      "         | valid loss: 1.13104, best: 1.10279 | accuracy: 0.65000, best: 0.65000\n",
      "Epoch: 18| train loss: 1.24682, best: 1.19857 | accuracy: 0.63636, best: 0.66818\n",
      "         | valid loss: 1.05667, best: 1.05667 | accuracy: 0.62500, best: 0.65000\n",
      "Epoch: 19| train loss: 1.16870, best: 1.16870 | accuracy: 0.69545, best: 0.69545\n",
      "         | valid loss: 1.13482, best: 1.05667 | accuracy: 0.60000, best: 0.65000\n",
      "Epoch: 20| train loss: 1.17482, best: 1.16870 | accuracy: 0.65000, best: 0.69545\n",
      "         | valid loss: 1.05313, best: 1.05313 | accuracy: 0.70000, best: 0.70000\n",
      "Epoch: 21| train loss: 1.17550, best: 1.16870 | accuracy: 0.65000, best: 0.69545\n",
      "         | valid loss: 1.02683, best: 1.02683 | accuracy: 0.67500, best: 0.70000\n",
      "Epoch: 22| train loss: 1.20006, best: 1.16870 | accuracy: 0.64091, best: 0.69545\n",
      "         | valid loss: 1.07714, best: 1.02683 | accuracy: 0.67500, best: 0.70000\n",
      "Epoch: 23| train loss: 1.13112, best: 1.13112 | accuracy: 0.69091, best: 0.69545\n",
      "         | valid loss: 0.99714, best: 0.99714 | accuracy: 0.67500, best: 0.70000\n",
      "Epoch: 24| train loss: 1.11041, best: 1.11041 | accuracy: 0.72273, best: 0.72273\n",
      "         | valid loss: 1.01355, best: 0.99714 | accuracy: 0.65000, best: 0.70000\n",
      "Epoch: 25| train loss: 1.18961, best: 1.11041 | accuracy: 0.66364, best: 0.72273\n",
      "         | valid loss: 0.94549, best: 0.94549 | accuracy: 0.72500, best: 0.72500\n",
      "Epoch: 26| train loss: 1.12181, best: 1.11041 | accuracy: 0.68182, best: 0.72273\n",
      "         | valid loss: 0.98682, best: 0.94549 | accuracy: 0.60000, best: 0.72500\n",
      "Epoch: 27| train loss: 1.14351, best: 1.11041 | accuracy: 0.69545, best: 0.72273\n",
      "         | valid loss: 0.99088, best: 0.94549 | accuracy: 0.70000, best: 0.72500\n",
      "Epoch: 28| train loss: 1.14569, best: 1.11041 | accuracy: 0.65909, best: 0.72273\n",
      "         | valid loss: 0.91908, best: 0.91908 | accuracy: 0.75000, best: 0.75000\n",
      "Epoch: 29| train loss: 1.09782, best: 1.09782 | accuracy: 0.74545, best: 0.74545\n",
      "         | valid loss: 0.96174, best: 0.91908 | accuracy: 0.67500, best: 0.75000\n",
      "Epoch: 30| train loss: 1.11749, best: 1.09782 | accuracy: 0.68182, best: 0.74545\n",
      "         | valid loss: 0.96061, best: 0.91908 | accuracy: 0.70000, best: 0.75000\n",
      "Epoch: 31| train loss: 1.08718, best: 1.08718 | accuracy: 0.69545, best: 0.74545\n",
      "         | valid loss: 0.90804, best: 0.90804 | accuracy: 0.72500, best: 0.75000\n",
      "Epoch: 32| train loss: 1.14284, best: 1.08718 | accuracy: 0.69091, best: 0.74545\n",
      "         | valid loss: 0.95340, best: 0.90804 | accuracy: 0.67500, best: 0.75000\n",
      "Epoch: 33| train loss: 1.07749, best: 1.07749 | accuracy: 0.72273, best: 0.74545\n",
      "         | valid loss: 0.95141, best: 0.90804 | accuracy: 0.72500, best: 0.75000\n",
      "Epoch: 34| train loss: 1.11754, best: 1.07749 | accuracy: 0.73182, best: 0.74545\n",
      "         | valid loss: 0.89670, best: 0.89670 | accuracy: 0.70000, best: 0.75000\n",
      "Epoch: 35| train loss: 1.10878, best: 1.07749 | accuracy: 0.74091, best: 0.74545\n",
      "         | valid loss: 0.91560, best: 0.89670 | accuracy: 0.72500, best: 0.75000\n",
      "Epoch: 36| train loss: 1.07897, best: 1.07749 | accuracy: 0.73636, best: 0.74545\n",
      "         | valid loss: 0.92755, best: 0.89670 | accuracy: 0.70000, best: 0.75000\n",
      "Epoch: 37| train loss: 1.06328, best: 1.06328 | accuracy: 0.75455, best: 0.75455\n",
      "         | valid loss: 0.83692, best: 0.83692 | accuracy: 0.72500, best: 0.75000\n",
      "Epoch: 38| train loss: 1.09227, best: 1.06328 | accuracy: 0.75000, best: 0.75455\n",
      "         | valid loss: 0.87746, best: 0.83692 | accuracy: 0.80000, best: 0.80000\n",
      "Epoch: 39| train loss: 1.07337, best: 1.06328 | accuracy: 0.72273, best: 0.75455\n",
      "         | valid loss: 0.88364, best: 0.83692 | accuracy: 0.80000, best: 0.80000\n",
      "Epoch: 40| train loss: 1.07097, best: 1.06328 | accuracy: 0.75455, best: 0.75455\n",
      "         | valid loss: 0.84429, best: 0.83692 | accuracy: 0.75000, best: 0.80000\n",
      "Epoch: 41| train loss: 1.06951, best: 1.06328 | accuracy: 0.76364, best: 0.76364\n",
      "         | valid loss: 0.80202, best: 0.80202 | accuracy: 0.75000, best: 0.80000\n",
      "Epoch: 42| train loss: 1.06376, best: 1.06328 | accuracy: 0.77273, best: 0.77273\n",
      "         | valid loss: 0.85200, best: 0.80202 | accuracy: 0.72500, best: 0.80000\n",
      "Epoch: 43| train loss: 1.05657, best: 1.05657 | accuracy: 0.75455, best: 0.77273\n",
      "         | valid loss: 0.83317, best: 0.80202 | accuracy: 0.77500, best: 0.80000\n",
      "Epoch: 44| train loss: 1.02435, best: 1.02435 | accuracy: 0.78182, best: 0.78182\n",
      "         | valid loss: 0.94121, best: 0.80202 | accuracy: 0.75000, best: 0.80000\n",
      "Epoch: 45| train loss: 1.08068, best: 1.02435 | accuracy: 0.74091, best: 0.78182\n",
      "         | valid loss: 0.85283, best: 0.80202 | accuracy: 0.72500, best: 0.80000\n",
      "Epoch: 46| train loss: 1.06131, best: 1.02435 | accuracy: 0.74545, best: 0.78182\n",
      "         | valid loss: 0.89700, best: 0.80202 | accuracy: 0.75000, best: 0.80000\n",
      "Epoch: 47| train loss: 1.04401, best: 1.02435 | accuracy: 0.75000, best: 0.78182\n",
      "         | valid loss: 0.93107, best: 0.80202 | accuracy: 0.75000, best: 0.80000\n",
      "Epoch: 48| train loss: 0.98547, best: 0.98547 | accuracy: 0.77273, best: 0.78182\n",
      "         | valid loss: 0.86245, best: 0.80202 | accuracy: 0.75000, best: 0.80000\n",
      "Epoch: 49| train loss: 1.00923, best: 0.98547 | accuracy: 0.77727, best: 0.78182\n",
      "         | valid loss: 0.95585, best: 0.80202 | accuracy: 0.67500, best: 0.80000\n",
      "Epoch: 50| train loss: 1.01392, best: 0.98547 | accuracy: 0.78182, best: 0.78182\n",
      "         | valid loss: 0.85464, best: 0.80202 | accuracy: 0.72500, best: 0.80000\n",
      "Epoch: 51| train loss: 1.00148, best: 0.98547 | accuracy: 0.75909, best: 0.78182\n",
      "         | valid loss: 0.98320, best: 0.80202 | accuracy: 0.65000, best: 0.80000\n",
      "Epoch: 52| train loss: 1.00750, best: 0.98547 | accuracy: 0.75909, best: 0.78182\n",
      "         | valid loss: 0.83806, best: 0.80202 | accuracy: 0.77500, best: 0.80000\n",
      "Epoch: 53| train loss: 1.01224, best: 0.98547 | accuracy: 0.78182, best: 0.78182\n",
      "         | valid loss: 0.86269, best: 0.80202 | accuracy: 0.77500, best: 0.80000\n",
      "Epoch: 54| train loss: 0.99786, best: 0.98547 | accuracy: 0.79545, best: 0.79545\n",
      "         | valid loss: 0.82815, best: 0.80202 | accuracy: 0.77500, best: 0.80000\n",
      "Epoch: 55| train loss: 0.92964, best: 0.92964 | accuracy: 0.80909, best: 0.80909\n",
      "         | valid loss: 0.82382, best: 0.80202 | accuracy: 0.77500, best: 0.80000\n",
      "Epoch: 56| train loss: 1.01284, best: 0.92964 | accuracy: 0.76818, best: 0.80909\n",
      "         | valid loss: 0.81903, best: 0.80202 | accuracy: 0.77500, best: 0.80000\n",
      "Epoch: 57| train loss: 1.01723, best: 0.92964 | accuracy: 0.79545, best: 0.80909\n",
      "         | valid loss: 0.82633, best: 0.80202 | accuracy: 0.77500, best: 0.80000\n",
      "Epoch: 58| train loss: 0.99330, best: 0.92964 | accuracy: 0.78182, best: 0.80909\n",
      "         | valid loss: 0.84423, best: 0.80202 | accuracy: 0.72500, best: 0.80000\n",
      "Epoch: 59| train loss: 1.01545, best: 0.92964 | accuracy: 0.76818, best: 0.80909\n",
      "         | valid loss: 0.85084, best: 0.80202 | accuracy: 0.72500, best: 0.80000\n",
      "Epoch: 60| train loss: 0.98416, best: 0.92964 | accuracy: 0.77727, best: 0.80909\n",
      "         | valid loss: 0.81465, best: 0.80202 | accuracy: 0.75000, best: 0.80000\n",
      "Epoch: 61| train loss: 0.97328, best: 0.92964 | accuracy: 0.82273, best: 0.82273\n",
      "         | valid loss: 0.85278, best: 0.80202 | accuracy: 0.77500, best: 0.80000\n",
      "Epoch: 62| train loss: 0.97580, best: 0.92964 | accuracy: 0.79545, best: 0.82273\n",
      "         | valid loss: 0.87051, best: 0.80202 | accuracy: 0.72500, best: 0.80000\n",
      "Epoch: 63| train loss: 0.93987, best: 0.92964 | accuracy: 0.81818, best: 0.82273\n",
      "         | valid loss: 0.90330, best: 0.80202 | accuracy: 0.72500, best: 0.80000\n",
      "Epoch: 64| train loss: 0.97542, best: 0.92964 | accuracy: 0.84091, best: 0.84091\n",
      "         | valid loss: 0.84875, best: 0.80202 | accuracy: 0.75000, best: 0.80000\n",
      "Epoch: 65| train loss: 0.96534, best: 0.92964 | accuracy: 0.76818, best: 0.84091\n",
      "         | valid loss: 0.90521, best: 0.80202 | accuracy: 0.72500, best: 0.80000\n",
      "Epoch: 66| train loss: 0.92528, best: 0.92528 | accuracy: 0.83636, best: 0.84091\n",
      "         | valid loss: 0.87798, best: 0.80202 | accuracy: 0.75000, best: 0.80000\n",
      "Epoch: 67| train loss: 0.98629, best: 0.92528 | accuracy: 0.80909, best: 0.84091\n",
      "         | valid loss: 0.85571, best: 0.80202 | accuracy: 0.77500, best: 0.80000\n",
      "Epoch: 68| train loss: 0.93107, best: 0.92528 | accuracy: 0.85000, best: 0.85000\n",
      "         | valid loss: 0.87324, best: 0.80202 | accuracy: 0.77500, best: 0.80000\n",
      "Epoch: 69| train loss: 0.96156, best: 0.92528 | accuracy: 0.82273, best: 0.85000\n",
      "         | valid loss: 0.85879, best: 0.80202 | accuracy: 0.65000, best: 0.80000\n",
      "Epoch: 70| train loss: 0.93825, best: 0.92528 | accuracy: 0.80909, best: 0.85000\n",
      "         | valid loss: 0.89023, best: 0.80202 | accuracy: 0.72500, best: 0.80000\n",
      "Epoch: 71| train loss: 0.90240, best: 0.90240 | accuracy: 0.83636, best: 0.85000\n",
      "         | valid loss: 0.82008, best: 0.80202 | accuracy: 0.75000, best: 0.80000\n",
      "Epoch: 72| train loss: 0.97731, best: 0.90240 | accuracy: 0.82273, best: 0.85000\n",
      "         | valid loss: 0.79009, best: 0.79009 | accuracy: 0.77500, best: 0.80000\n",
      "Epoch: 73| train loss: 0.90709, best: 0.90240 | accuracy: 0.81818, best: 0.85000\n",
      "         | valid loss: 0.87108, best: 0.79009 | accuracy: 0.72500, best: 0.80000\n",
      "Epoch: 74| train loss: 0.87438, best: 0.87438 | accuracy: 0.86364, best: 0.86364\n",
      "         | valid loss: 0.82985, best: 0.79009 | accuracy: 0.72500, best: 0.80000\n",
      "Epoch: 75| train loss: 0.96592, best: 0.87438 | accuracy: 0.80455, best: 0.86364\n",
      "         | valid loss: 0.86996, best: 0.79009 | accuracy: 0.72500, best: 0.80000\n",
      "Epoch: 76| train loss: 0.88502, best: 0.87438 | accuracy: 0.85909, best: 0.86364\n",
      "         | valid loss: 0.93494, best: 0.79009 | accuracy: 0.70000, best: 0.80000\n",
      "Epoch: 77| train loss: 0.94152, best: 0.87438 | accuracy: 0.85455, best: 0.86364\n",
      "         | valid loss: 0.76842, best: 0.76842 | accuracy: 0.75000, best: 0.80000\n",
      "Epoch: 78| train loss: 0.91434, best: 0.87438 | accuracy: 0.84545, best: 0.86364\n",
      "         | valid loss: 0.84769, best: 0.76842 | accuracy: 0.77500, best: 0.80000\n",
      "Epoch: 79| train loss: 0.88376, best: 0.87438 | accuracy: 0.83636, best: 0.86364\n",
      "         | valid loss: 0.86322, best: 0.76842 | accuracy: 0.75000, best: 0.80000\n",
      "Epoch: 80| train loss: 0.90810, best: 0.87438 | accuracy: 0.82273, best: 0.86364\n",
      "         | valid loss: 0.83474, best: 0.76842 | accuracy: 0.77500, best: 0.80000\n",
      "Epoch: 81| train loss: 0.96087, best: 0.87438 | accuracy: 0.82727, best: 0.86364\n",
      "         | valid loss: 0.80472, best: 0.76842 | accuracy: 0.72500, best: 0.80000\n",
      "Epoch: 82| train loss: 0.91884, best: 0.87438 | accuracy: 0.85455, best: 0.86364\n",
      "         | valid loss: 0.79673, best: 0.76842 | accuracy: 0.80000, best: 0.80000\n",
      "Epoch: 83| train loss: 0.86674, best: 0.86674 | accuracy: 0.89091, best: 0.89091\n",
      "         | valid loss: 0.78905, best: 0.76842 | accuracy: 0.75000, best: 0.80000\n",
      "Epoch: 84| train loss: 0.85988, best: 0.85988 | accuracy: 0.86818, best: 0.89091\n",
      "         | valid loss: 0.79599, best: 0.76842 | accuracy: 0.82500, best: 0.82500\n",
      "Epoch: 85| train loss: 0.87824, best: 0.85988 | accuracy: 0.84545, best: 0.89091\n",
      "         | valid loss: 0.74112, best: 0.74112 | accuracy: 0.80000, best: 0.82500\n",
      "Epoch: 86| train loss: 0.89510, best: 0.85988 | accuracy: 0.85000, best: 0.89091\n",
      "         | valid loss: 0.80594, best: 0.74112 | accuracy: 0.80000, best: 0.82500\n",
      "Epoch: 87| train loss: 0.92554, best: 0.85988 | accuracy: 0.85909, best: 0.89091\n",
      "         | valid loss: 0.78160, best: 0.74112 | accuracy: 0.75000, best: 0.82500\n",
      "Epoch: 88| train loss: 0.90376, best: 0.85988 | accuracy: 0.84545, best: 0.89091\n",
      "         | valid loss: 0.76814, best: 0.74112 | accuracy: 0.77500, best: 0.82500\n",
      "Epoch: 89| train loss: 0.93073, best: 0.85988 | accuracy: 0.87273, best: 0.89091\n",
      "         | valid loss: 0.82033, best: 0.74112 | accuracy: 0.75000, best: 0.82500\n",
      "Epoch: 90| train loss: 0.91561, best: 0.85988 | accuracy: 0.83636, best: 0.89091\n",
      "         | valid loss: 0.91744, best: 0.74112 | accuracy: 0.72500, best: 0.82500\n",
      "Epoch: 91| train loss: 0.89116, best: 0.85988 | accuracy: 0.87273, best: 0.89091\n",
      "         | valid loss: 0.76813, best: 0.74112 | accuracy: 0.77500, best: 0.82500\n",
      "Epoch: 92| train loss: 0.84450, best: 0.84450 | accuracy: 0.91818, best: 0.91818\n",
      "         | valid loss: 0.81447, best: 0.74112 | accuracy: 0.77500, best: 0.82500\n",
      "Epoch: 93| train loss: 0.88679, best: 0.84450 | accuracy: 0.86364, best: 0.91818\n",
      "         | valid loss: 0.69473, best: 0.69473 | accuracy: 0.80000, best: 0.82500\n",
      "Epoch: 94| train loss: 0.89013, best: 0.84450 | accuracy: 0.87727, best: 0.91818\n",
      "         | valid loss: 0.73330, best: 0.69473 | accuracy: 0.82500, best: 0.82500\n",
      "Epoch: 95| train loss: 0.86324, best: 0.84450 | accuracy: 0.90000, best: 0.91818\n",
      "         | valid loss: 0.78411, best: 0.69473 | accuracy: 0.80000, best: 0.82500\n",
      "Epoch: 96| train loss: 0.85228, best: 0.84450 | accuracy: 0.87727, best: 0.91818\n",
      "         | valid loss: 0.81188, best: 0.69473 | accuracy: 0.77500, best: 0.82500\n",
      "Epoch: 97| train loss: 0.86585, best: 0.84450 | accuracy: 0.90000, best: 0.91818\n",
      "         | valid loss: 0.78509, best: 0.69473 | accuracy: 0.72500, best: 0.82500\n",
      "Epoch: 98| train loss: 0.86115, best: 0.84450 | accuracy: 0.88636, best: 0.91818\n",
      "         | valid loss: 0.80910, best: 0.69473 | accuracy: 0.75000, best: 0.82500\n",
      "Epoch: 99| train loss: 0.85430, best: 0.84450 | accuracy: 0.86818, best: 0.91818\n",
      "         | valid loss: 0.78963, best: 0.69473 | accuracy: 0.77500, best: 0.82500\n"
     ]
    }
   ],
   "source": [
    "lstm = LSTM(n_features, n_classes, n_hidden, n_layers, dropout, device) #our lstm class\n",
    "lstm.to(device)\n",
    "criterion = torch.nn.CrossEntropyLoss()\n",
    "optimizer = torch.optim.Adam(lstm.parameters(), lr=learning_rate) \n",
    "accuracy = Accuracy(task=\"multiclass\", num_classes=6)\n",
    "train_loss = []\n",
    "train_acc = []\n",
    "\n",
    "trainer_path = 'D:/Workspace/TENG-Signal-Classification/trainer/'\n",
    "    \n",
    "valid_loss = []\n",
    "\n",
    "valid_acc = []                       \n",
    "\n",
    "to_one_hot = [[1,0,0,0,0,0],[0,1,0,0,0,0],[0,0,1,0,0,0],[0,0,0,1,0,0],[0,0,0,0,1,0],[0,0,0,0,0,1]]\n",
    "\n",
    "for epoch in tqdm(range(num_epochs)):\n",
    "    l = []\n",
    "    pre = []\n",
    "    mix = []\n",
    "    \n",
    "    for index, case in enumerate(train_set):\n",
    "        rand_index = random.randint(0,len(train_set) - 1)\n",
    "        x1 = X_train_tensors[index]\n",
    "        x2 = X_train_tensors[rand_index]\n",
    "        label1 = Y_train_tensors[index]\n",
    "        label2 = Y_train_tensors[rand_index]\n",
    "        one_hot1 = to_one_hot[label1]\n",
    "        one_hot2 = to_one_hot[label2]\n",
    "        \n",
    "        random_noise = torch.Tensor(0.1 * np.random.randn(6,6))\n",
    "        \n",
    "        lam = 0.8\n",
    "        x_mixed_up = lam * x1 + (1 - lam) * x2 \n",
    "        y_mixed_up = lam * torch.FloatTensor(one_hot1) + (1 - lam) * torch.FloatTensor(one_hot2)\n",
    "\n",
    "        outputs = lstm.forward(x_mixed_up) #forward pass\n",
    "        optimizer.zero_grad() #caluclate the gradient, manually setting to 0\n",
    "\n",
    "        # obtain the loss function\n",
    "        step_loss = criterion(torch.unsqueeze(outputs,0), torch.unsqueeze(y_mixed_up,0).to(device))\n",
    "        l.append(step_loss.item())\n",
    "\n",
    "        mixed_up = torch.argmax(y_mixed_up)\n",
    "        mix.append(mixed_up)\n",
    "        prediction = torch.argmax(outputs)\n",
    "        pre.append(prediction)\n",
    "        step_loss.backward() #calculates the loss of the loss function\n",
    "        optimizer.step() #improve from loss, i.e backprop\n",
    "\n",
    "    acc = accuracy(torch.tensor(pre), torch.tensor(mix))\n",
    "    train_acc.append(acc.item())\n",
    "    loss = np.mean(l) \n",
    "    train_loss.append(loss)\n",
    "    best_train_loss = min(train_loss)\n",
    "    \n",
    "    if epoch < 10:\n",
    "        print(\"Epoch: %d | train loss: %1.5f, best: %1.5f | accuracy: %1.5f, best: %1.5f\" % (epoch, loss, best_train_loss, acc, max(train_acc))) \n",
    "    else:\n",
    "        print(\"Epoch: %d| train loss: %1.5f, best: %1.5f | accuracy: %1.5f, best: %1.5f\" % (epoch, loss, best_train_loss, acc, max(train_acc))) \n",
    "\n",
    "    # if epoch % 5 == 0 or epoch == num_epochs - 1 :\n",
    "    _l = []\n",
    "    _pre = []\n",
    "    _acc = []\n",
    "    for index, case in enumerate(valid_set):\n",
    "\n",
    "        label = Y_valid_tensors[index]\n",
    "        one_hot = to_one_hot[label]\n",
    "        \n",
    "        outputs = lstm(X_valid_tensors[index]) #forward pass\n",
    "        step_loss = criterion(torch.unsqueeze(outputs,0), torch.unsqueeze(torch.FloatTensor(one_hot),0).to(device))\n",
    "        _l.append(step_loss.item())\n",
    "        prediction = torch.argmax(outputs)\n",
    "        \n",
    "        _pre.append(prediction)\n",
    "    \n",
    "    _acc = accuracy(torch.tensor(_pre), torch.tensor(Y_valid_tensors)) \n",
    "    valid_acc.append(_acc.item())\n",
    "    _loss = np.mean(_l)\n",
    "    if  _acc >= 0.8:\n",
    "        torch.save(lstm.state_dict(), trainer_path + 'epoch_' + str(epoch) +\n",
    "                   '_loss_' + str(_loss) + '_acc_' + str(_acc.item() * 100) + '%' + '.pt')\n",
    "    \n",
    "    valid_loss.append(_loss)\n",
    "    best_valid_loss = min(valid_loss)\n",
    "    \n",
    "    if epoch == num_epochs - 1:\n",
    "        print(\"         | valid loss: %1.5f, best: %1.5f | accuracy: %1.5f, best: %1.5f\" % (_loss, best_valid_loss, _acc, max(valid_acc))) \n",
    "    else:\n",
    "        print(\"         | valid loss: %1.5f, best: %1.5f | accuracy: %1.5f, best: %1.5f\" % (_loss, best_valid_loss, _acc, max(valid_acc)))\n"
   ],
   "metadata": {
    "collapsed": false,
    "pycharm": {
     "name": "#%%\n",
     "is_executing": false
    },
    "ExecuteTime": {
     "end_time": "2023-12-21T07:07:43.704345700Z",
     "start_time": "2023-12-21T07:06:25.701309300Z"
    }
   }
  },
  {
   "cell_type": "markdown",
   "source": [
    "## Save Loss"
   ],
   "metadata": {
    "collapsed": false
   }
  },
  {
   "cell_type": "code",
   "execution_count": 134,
   "outputs": [
    {
     "data": {
      "text/plain": "<Figure size 800x400 with 1 Axes>",
      "image/png": "[encoded data removed]"
     },
     "metadata": {},
     "output_type": "display_data"
    },
    {
     "data": {
      "text/plain": "<Figure size 800x400 with 1 Axes>",
      "image/png": "[encoded data removed]"
     },
     "metadata": {},
     "output_type": "display_data"
    }
   ],
   "source": [
    "path = 'D:/Workspace/Teng-Signal-Classification/output/'\n",
    "\n",
    "csv_file = path + 'train_loss' + '.csv'\n",
    "img_file = path + 'train_loss' + '.jpg'\n",
    "txt_file = path + 'set_slice' + '.txt'\n",
    "\n",
    "epoch_scale = list(range(0, len(train_loss)))\n",
    "\n",
    "plt.figure(figsize=(8, 4))\n",
    "plt.plot(epoch_scale, train_loss, epoch_scale, valid_loss)\n",
    "label = ['train loss', 'valid loss']\n",
    "plt.legend(label, loc='upper right')\n",
    "plt.savefig(path + 'loss.jpg')\n",
    "plt.show()\n",
    "\n",
    "plt.figure(figsize=(8, 4))\n",
    "plt.plot(epoch_scale, train_acc, epoch_scale, valid_acc)\n",
    "label = ['train acc', 'valid acc']\n",
    "plt.legend(label, loc='upper right')\n",
    "plt.savefig(path + 'acc.jpg')\n",
    "plt.show()\n",
    "\n",
    "Data = {\n",
    "    'train_loss': [],\n",
    "    'valid_loss': [],\n",
    "    'train_acc': [],\n",
    "    'valid_acc': [],\n",
    "\n",
    "}\n",
    "\n",
    "Data['train_loss'] = train_loss\n",
    "Data['valid_loss'] = valid_loss\n",
    "Data['train_acc'] = train_acc\n",
    "Data['valid_acc'] = valid_acc\n",
    "\n",
    "savedata = pd.DataFrame(data=Data)\n",
    "savedata.to_csv(path + 'loss&acc.csv')\n",
    "\n",
    "\n",
    "with open(txt_file, 'w') as f:\n",
    "    f.write('train_set:')\n",
    "    f.write(str(train_set))\n",
    "    f.write('\\n')\n",
    "    f.write('\\n')\n",
    "    f.write('valid_set:')\n",
    "    f.write(str(valid_set))\n",
    "    f.write('\\n')\n",
    "    f.write('\\n')\n",
    "    f.write('test_set:')\n",
    "    f.write(str(test_set))\n"
   ],
   "metadata": {
    "collapsed": false,
    "ExecuteTime": {
     "end_time": "2023-12-21T07:07:47.635631700Z",
     "start_time": "2023-12-21T07:07:47.107582600Z"
    }
   }
  }
 ],
 "metadata": {
  "kernelspec": {
   "display_name": "Python 3",
   "language": "python",
   "name": "python3"
  },
  "language_info": {
   "codemirror_mode": {
    "name": "ipython",
    "version": 2
   },
   "file_extension": ".py",
   "mimetype": "text/x-python",
   "name": "python",
   "nbconvert_exporter": "python",
   "pygments_lexer": "ipython2",
   "version": "2.7.6"
  },
  "pycharm": {
   "stem_cell": {
    "cell_type": "raw",
    "source": [],
    "metadata": {
     "collapsed": false
    }
   }
  }
 },
 "nbformat": 4,
 "nbformat_minor": 0
}
