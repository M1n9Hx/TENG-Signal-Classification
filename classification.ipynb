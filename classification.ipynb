{
 "cells": [
  {
   "cell_type": "markdown",
   "source": [
    "## Prepare Library"
   ],
   "metadata": {
    "collapsed": false
   }
  },
  {
   "cell_type": "code",
   "execution_count": 1,
   "metadata": {
    "collapsed": true,
    "pycharm": {
     "is_executing": false
    },
    "ExecuteTime": {
     "end_time": "2023-12-20T06:05:21.950485200Z",
     "start_time": "2023-12-20T06:05:10.491717500Z"
    }
   },
   "outputs": [
    {
     "name": "stderr",
     "output_type": "stream",
     "text": [
      "D:\\Anaconda\\Lib\\site-packages\\torchaudio\\backend\\utils.py:74: UserWarning: No audio backend is available.\n",
      "  warnings.warn(\"No audio backend is available.\")\n"
     ]
    }
   ],
   "source": [
    "import os\n",
    "import torch\n",
    "import torchmetrics\n",
    "from torchmetrics.classification.accuracy import Accuracy\n",
    "import pandas as pd \n",
    "import numpy as np\n",
    "import random\n",
    "import matplotlib.pyplot as plt\n",
    "from sklearn.preprocessing import StandardScaler, MinMaxScaler\n",
    "from torch.autograd import Variable \n",
    "from tqdm.auto import tqdm\n",
    "from scipy import integrate\n",
    "from model import LSTM\n",
    "from random import sample\n",
    "import torch.nn as nn\n",
    "from scipy.signal import find_peaks\n",
    "from livelossplot import PlotLosses\n"
   ]
  },
  {
   "cell_type": "markdown",
   "source": [
    "## Prepare CPU"
   ],
   "metadata": {
    "collapsed": false
   }
  },
  {
   "cell_type": "code",
   "execution_count": 2,
   "outputs": [
    {
     "name": "stdout",
     "output_type": "stream",
     "text": [
      "2.0.1+cpu\n",
      "None\n",
      "False\n"
     ]
    }
   ],
   "source": [
    "print(torch.__version__ )\n",
    "print(torch.version.cuda)\n",
    "print(torch.cuda.is_available())\n",
    "device = torch.device(\"cuda:0\" if torch.cuda.is_available() else \"cpu\")"
   ],
   "metadata": {
    "collapsed": false,
    "pycharm": {
     "name": "#%%\n",
     "is_executing": false
    },
    "ExecuteTime": {
     "end_time": "2023-12-20T06:05:21.967651400Z",
     "start_time": "2023-12-20T06:05:21.951482900Z"
    }
   }
  },
  {
   "cell_type": "markdown",
   "source": [
    "## Dataset"
   ],
   "metadata": {
    "collapsed": false
   }
  },
  {
   "cell_type": "code",
   "execution_count": 42,
   "outputs": [],
   "source": [
    "Index = ['Channel1', 'Channel2', 'Channel3', 'Channel4', 'Channel5', 'Channel6']\n",
    "\n",
    "Data_path = 'D:/Workspace/TENG-Signal-Classification/dataset/preprocessed'\n",
    "\n",
    "cases = os.listdir(Data_path)\n",
    "\n",
    "random.shuffle(cases)"
   ],
   "metadata": {
    "collapsed": false,
    "pycharm": {
     "name": "#%%\n",
     "is_executing": false
    },
    "ExecuteTime": {
     "end_time": "2023-12-20T06:33:29.945995600Z",
     "start_time": "2023-12-20T06:33:29.930300800Z"
    }
   }
  },
  {
   "cell_type": "markdown",
   "source": [
    "## Load data"
   ],
   "metadata": {
    "collapsed": false
   }
  },
  {
   "cell_type": "code",
   "execution_count": 43,
   "outputs": [
    {
     "name": "stdout",
     "output_type": "stream",
     "text": [
      "lenght of train set: 220\n",
      "lenght of valid set: 40\n",
      "valid set: ['C6_11', 'C6_36', 'C6_3', 'C6_28', 'C2_41', 'C3_17', 'C6_44', 'C6_29', 'C1_49', 'C4_45', 'C3_47', 'C2_27', 'C1_13', 'C2_31', 'C3_35', 'C4_30', 'C4_41', 'C4_26', 'C5_36', 'C6_40', 'C4_25', 'C5_29', 'C2_15', 'C3_37', 'C1_18', 'C2_9', 'C2_32', 'C1_44', 'C1_45', 'C4_33', 'C2_50', 'C6_30', 'C4_28', 'C5_39', 'C1_5', 'C5_8', 'C3_33', 'C1_6', 'C3_19', 'C6_34']\n",
      "lenght of test set: 40\n",
      "test set: ['C1_36', 'C3_23', 'C3_46', 'C2_19', 'C3_1', 'C6_22', 'C5_32', 'C1_8', 'C6_45', 'C6_21', 'C1_17', 'C1_24', 'C1_9', 'C1_10', 'C1_16', 'C4_49', 'C3_32', 'C1_20', 'C4_18', 'C5_38', 'C4_35', 'C3_15', 'C6_31', 'C3_4', 'C4_19', 'C3_27', 'C5_11', 'C5_46', 'C3_45', 'C3_9', 'C5_7', 'C1_50', 'C4_37', 'C4_47', 'C5_14', 'C2_40', 'C3_11', 'C5_43', 'C2_34', 'C5_12']\n"
     ]
    }
   ],
   "source": [
    "test_set = cases[:40]\n",
    "\n",
    "valid_set = cases[40:80]\n",
    "\n",
    "train_set = cases[80:]\n",
    "\n",
    "print('lenght of train set:', len(train_set))\n",
    "print('lenght of valid set:', len(valid_set))\n",
    "print('valid set:', valid_set)\n",
    "print('lenght of test set:', len(test_set))\n",
    "print('test set:', test_set)"
   ],
   "metadata": {
    "collapsed": false,
    "pycharm": {
     "name": "#%%\n",
     "is_executing": false
    },
    "ExecuteTime": {
     "end_time": "2023-12-20T06:33:29.946992400Z",
     "start_time": "2023-12-20T06:33:29.935959600Z"
    }
   }
  },
  {
   "cell_type": "code",
   "execution_count": 53,
   "outputs": [
    {
     "name": "stdout",
     "output_type": "stream",
     "text": [
      "| loading train set data..... |\n",
      "| done |\n",
      "| loading valid set data..... |\n",
      "| done |\n",
      "| loading test set data..... |\n",
      "| done |\n",
      "| train set data to tensor..... |\n",
      "| done |\n",
      "| valid data to tensor..... |\n",
      "| done |\n",
      "| test data to tensor..... |\n",
      "| done |\n"
     ]
    }
   ],
   "source": [
    "x_train_data = [] \n",
    "y_train_data = []\n",
    "x_valid_data = []\n",
    "y_valid_data = []\n",
    "x_test_data = []\n",
    "y_test_data = []\n",
    "\n",
    "print('| loading train set data..... |')\n",
    "for case in train_set:\n",
    "    DATA = {}\n",
    "    label = case.split('_')[0]\n",
    "    #   Read csv\n",
    "    file = case + '.csv'\n",
    "    data = pd.read_csv(Data_path + '/' + case + '/' + file, usecols = Index)\n",
    "    #   Convert lable into int\n",
    "    Encode_label = {\n",
    "            'C1': 0,\n",
    "            'C2': 1,\n",
    "            'C3': 2,\n",
    "            'C4': 3,\n",
    "            'C5': 4,\n",
    "            'C6': 5, \n",
    "    }\n",
    "    entropy = pd.value_counts(data['Channel1']) / len(data['Channel1'])\n",
    "    DATA['C1'] = [sum(data['Channel1'].to_numpy()),np.max((data['Channel1'].to_numpy())),np.min((data['Channel1'].to_numpy())),np.mean((data['Channel1'].to_numpy())),np.std((data['Channel1'].to_numpy())),sum(np.log2(entropy) * entropy * (-1))]\n",
    "    entropy = pd.value_counts(data['Channel2']) / len(data['Channel2'])\n",
    "    DATA['C2'] = [sum(data['Channel2'].to_numpy()),np.max((data['Channel2'].to_numpy())),np.min((data['Channel2'].to_numpy())),np.mean((data['Channel2'].to_numpy())),np.std((data['Channel2'].to_numpy())),sum(np.log2(entropy) * entropy * (-1))]\n",
    "    entropy = pd.value_counts(data['Channel3']) / len(data['Channel3'])\n",
    "    DATA['C3'] = [sum(data['Channel3'].to_numpy()),np.max((data['Channel3'].to_numpy())),np.min((data['Channel3'].to_numpy())),np.mean((data['Channel3'].to_numpy())),np.std((data['Channel3'].to_numpy())),sum(np.log2(entropy) * entropy * (-1))]\n",
    "    entropy = pd.value_counts(data['Channel4']) / len(data['Channel4'])\n",
    "    DATA['C4'] = [sum(data['Channel4'].to_numpy()),np.max((data['Channel4'].to_numpy())),np.min((data['Channel4'].to_numpy())),np.mean((data['Channel4'].to_numpy())),np.std((data['Channel4'].to_numpy())),sum(np.log2(entropy) * entropy * (-1))]\n",
    "    entropy = pd.value_counts(data['Channel5']) / len(data['Channel5'])\n",
    "    DATA['C5'] = [sum(data['Channel5'].to_numpy()),np.max((data['Channel5'].to_numpy())),np.min((data['Channel5'].to_numpy())),np.mean((data['Channel5'].to_numpy())),np.std((data['Channel5'].to_numpy())),sum(np.log2(entropy) * entropy * (-1))]\n",
    "    entropy = pd.value_counts(data['Channel6']) / len(data['Channel6'])\n",
    "    DATA['C6'] = [sum(data['Channel6'].to_numpy()),np.max((data['Channel6'].to_numpy())),np.min((data['Channel6'].to_numpy())),np.mean((data['Channel6'].to_numpy())),np.std((data['Channel6'].to_numpy())),sum(np.log2(entropy) * entropy * (-1))]\n",
    "    # x_train_data.append(data)\n",
    "    x_train_data.append(pd.DataFrame.from_dict(DATA, orient='index').T)\n",
    "    y_train_data.append(Encode_label[label])\n",
    "print('| done |')\n",
    "\n",
    "print('| loading valid set data..... |')\n",
    "for case in valid_set:\n",
    "    DATA = {}\n",
    "    label = case.split('_')[0]\n",
    "    #   Read csv\n",
    "    file = case + '.csv'\n",
    "    data = pd.read_csv(Data_path + '/' + case + '/' + file, usecols = Index)\n",
    "    #   Convert lable into int\n",
    "    Encode_label = {\n",
    "            'C1': 0,\n",
    "            'C2': 1,\n",
    "            'C3': 2,\n",
    "            'C4': 3,\n",
    "            'C5': 4,\n",
    "            'C6': 5, \n",
    "    }\n",
    "    entropy = pd.value_counts(data['Channel1']) / len(data['Channel1'])\n",
    "    DATA['C1'] = [sum(data['Channel1'].to_numpy()),np.max((data['Channel1'].to_numpy())),np.min((data['Channel1'].to_numpy())),np.mean((data['Channel1'].to_numpy())),np.std((data['Channel1'].to_numpy())),sum(np.log2(entropy) * entropy * (-1))]\n",
    "    entropy = pd.value_counts(data['Channel2']) / len(data['Channel2'])\n",
    "    DATA['C2'] = [sum(data['Channel2'].to_numpy()),np.max((data['Channel2'].to_numpy())),np.min((data['Channel2'].to_numpy())),np.mean((data['Channel2'].to_numpy())),np.std((data['Channel2'].to_numpy())),sum(np.log2(entropy) * entropy * (-1))]\n",
    "    entropy = pd.value_counts(data['Channel3']) / len(data['Channel3'])\n",
    "    DATA['C3'] = [sum(data['Channel3'].to_numpy()),np.max((data['Channel3'].to_numpy())),np.min((data['Channel3'].to_numpy())),np.mean((data['Channel3'].to_numpy())),np.std((data['Channel3'].to_numpy())),sum(np.log2(entropy) * entropy * (-1))]\n",
    "    entropy = pd.value_counts(data['Channel4']) / len(data['Channel4'])\n",
    "    DATA['C4'] = [sum(data['Channel4'].to_numpy()),np.max((data['Channel4'].to_numpy())),np.min((data['Channel4'].to_numpy())),np.mean((data['Channel4'].to_numpy())),np.std((data['Channel4'].to_numpy())),sum(np.log2(entropy) * entropy * (-1))]\n",
    "    entropy = pd.value_counts(data['Channel5']) / len(data['Channel5'])\n",
    "    DATA['C5'] = [sum(data['Channel5'].to_numpy()),np.max((data['Channel5'].to_numpy())),np.min((data['Channel5'].to_numpy())),np.mean((data['Channel5'].to_numpy())),np.std((data['Channel5'].to_numpy())),sum(np.log2(entropy) * entropy * (-1))]\n",
    "    entropy = pd.value_counts(data['Channel6']) / len(data['Channel6'])\n",
    "    DATA['C6'] = [sum(data['Channel6'].to_numpy()),np.max((data['Channel6'].to_numpy())),np.min((data['Channel6'].to_numpy())),np.mean((data['Channel6'].to_numpy())),np.std((data['Channel6'].to_numpy())),sum(np.log2(entropy) * entropy * (-1))]\n",
    "    # x_valid_data.append(data)\n",
    "    x_valid_data.append(pd.DataFrame.from_dict(DATA, orient='index').T)\n",
    "    y_valid_data.append(Encode_label[label])\n",
    "print('| done |')\n",
    "\n",
    "print('| loading test set data..... |')\n",
    "for case in test_set:\n",
    "    DATA = {}\n",
    "    label = case.split('_')[0]\n",
    "    #   Read csv\n",
    "    file = case + '.csv'\n",
    "    data = pd.read_csv(Data_path + '/' + case + '/' + file, usecols = Index)\n",
    "    #   Convert lable into int\n",
    "    Encode_label = {\n",
    "            'C1': 0,\n",
    "            'C2': 1,\n",
    "            'C3': 2,\n",
    "            'C4': 3,\n",
    "            'C5': 4,\n",
    "            'C6': 5, \n",
    "    }\n",
    "    entropy = pd.value_counts(data['Channel1']) / len(data['Channel1'])\n",
    "    DATA['C1'] = [sum(data['Channel1'].to_numpy()),np.max((data['Channel1'].to_numpy())),np.min((data['Channel1'].to_numpy())),np.mean((data['Channel1'].to_numpy())),np.std((data['Channel1'].to_numpy())),sum(np.log2(entropy) * entropy * (-1))]\n",
    "    entropy = pd.value_counts(data['Channel2']) / len(data['Channel2'])\n",
    "    DATA['C2'] = [sum(data['Channel2'].to_numpy()),np.max((data['Channel2'].to_numpy())),np.min((data['Channel2'].to_numpy())),np.mean((data['Channel2'].to_numpy())),np.std((data['Channel2'].to_numpy())),sum(np.log2(entropy) * entropy * (-1))]\n",
    "    entropy = pd.value_counts(data['Channel3']) / len(data['Channel3'])\n",
    "    DATA['C3'] = [sum(data['Channel3'].to_numpy()),np.max((data['Channel3'].to_numpy())),np.min((data['Channel3'].to_numpy())),np.mean((data['Channel3'].to_numpy())),np.std((data['Channel3'].to_numpy())),sum(np.log2(entropy) * entropy * (-1))]\n",
    "    entropy = pd.value_counts(data['Channel4']) / len(data['Channel4'])\n",
    "    DATA['C4'] = [sum(data['Channel4'].to_numpy()),np.max((data['Channel4'].to_numpy())),np.min((data['Channel4'].to_numpy())),np.mean((data['Channel4'].to_numpy())),np.std((data['Channel4'].to_numpy())),sum(np.log2(entropy) * entropy * (-1))]\n",
    "    entropy = pd.value_counts(data['Channel5']) / len(data['Channel5'])\n",
    "    DATA['C5'] = [sum(data['Channel5'].to_numpy()),np.max((data['Channel5'].to_numpy())),np.min((data['Channel5'].to_numpy())),np.mean((data['Channel5'].to_numpy())),np.std((data['Channel5'].to_numpy())),sum(np.log2(entropy) * entropy * (-1))]\n",
    "    entropy = pd.value_counts(data['Channel6']) / len(data['Channel6'])\n",
    "    DATA['C6'] = [sum(data['Channel6'].to_numpy()),np.max((data['Channel6'].to_numpy())),np.min((data['Channel6'].to_numpy())),np.mean((data['Channel6'].to_numpy())),np.std((data['Channel6'].to_numpy())),sum(np.log2(entropy) * entropy * (-1))]\n",
    "    # x_test_data.append(data)\n",
    "    x_test_data.append(pd.DataFrame.from_dict(DATA, orient='index').T)\n",
    "    y_test_data.append(Encode_label[label])\n",
    "print('| done |')\n",
    "\n",
    "ss = StandardScaler()\n",
    "mm = MinMaxScaler()\n",
    "\n",
    "X_train_tensors = []\n",
    "Y_train_tensors = []\n",
    "X_valid_tensors = []\n",
    "Y_valid_tensors = []\n",
    "X_test_tensors = []\n",
    "Y_test_tensors = []\n",
    "\n",
    "\n",
    "print('| train set data to tensor..... |')\n",
    "## To tensors\n",
    "for i in range(len(train_set)):\n",
    "    X = x_train_data[i]\n",
    "    Y = y_train_data[i]\n",
    "    X_ss = ss.fit_transform(X)\n",
    "    \n",
    "    X_tensors = torch.Tensor(X_ss)\n",
    "    Y_tensors = torch.tensor(Y)\n",
    "\n",
    "    X_train_tensors.append(X_tensors.to(device))\n",
    "    Y_train_tensors.append(Y_tensors.to(device))\n",
    "print('| done |')\n",
    "\n",
    "print('| valid data to tensor..... |')\n",
    "for i in range(len(valid_set)):\n",
    "    X = x_valid_data[i]\n",
    "    Y = y_valid_data[i]\n",
    "    X_ss = ss.fit_transform(X)\n",
    "    \n",
    "    X_tensors = torch.Tensor(X_ss)\n",
    "    Y_tensors = torch.tensor(Y)\n",
    "\n",
    "    X_valid_tensors.append(X_tensors.to(device))\n",
    "    Y_valid_tensors.append(Y_tensors.to(device))\n",
    "print('| done |')\n",
    "\n",
    "print('| test data to tensor..... |')\n",
    "for i in range(len(test_set)):\n",
    "    X = x_test_data[i]\n",
    "    Y = y_test_data[i]\n",
    "    X_ss = ss.fit_transform(X)\n",
    "    \n",
    "    X_tensors = torch.Tensor(X_ss)\n",
    "    Y_tensors = torch.tensor(Y)\n",
    "\n",
    "    X_test_tensors.append(X_tensors.to(device))\n",
    "    Y_test_tensors.append(Y_tensors.to(device))\n",
    "print('| done |')"
   ],
   "metadata": {
    "collapsed": false,
    "pycharm": {
     "name": "#%%\n",
     "is_executing": false
    },
    "ExecuteTime": {
     "end_time": "2023-12-20T07:03:24.658282Z",
     "start_time": "2023-12-20T07:03:20.729000300Z"
    }
   }
  },
  {
   "cell_type": "code",
   "execution_count": 54,
   "outputs": [
    {
     "data": {
      "text/plain": "tensor([[-2.1607,  1.9084,  0.3294, -1.9761, -1.3199, -2.1470],\n        [ 0.6466,  0.6930,  1.8308,  0.9661,  1.7055,  0.6150],\n        [-0.1251, -1.0182, -1.5482, -0.5692, -1.0835, -0.1800],\n        [ 0.5234, -0.5579, -0.2622,  0.4892,  0.1780,  0.5459],\n        [ 0.5848, -0.4676, -0.0949,  0.5907,  0.3252,  0.6115],\n        [ 0.5309, -0.5578, -0.2548,  0.4994,  0.1947,  0.5546]])"
     },
     "execution_count": 54,
     "metadata": {},
     "output_type": "execute_result"
    }
   ],
   "source": [
    "X_train_tensors[0]"
   ],
   "metadata": {
    "collapsed": false,
    "ExecuteTime": {
     "end_time": "2023-12-20T07:03:24.767019800Z",
     "start_time": "2023-12-20T07:03:24.760526900Z"
    }
   }
  },
  {
   "cell_type": "markdown",
   "source": [
    "## Training "
   ],
   "metadata": {
    "collapsed": false
   }
  },
  {
   "cell_type": "code",
   "execution_count": 55,
   "outputs": [],
   "source": [
    "num_epochs = 100\n",
    "learning_rate = 3e-4\n",
    "\n",
    "n_features = len(Index) #number of features\n",
    "n_hidden = 64 #number of features in hidden state\n",
    "n_layers = 2 #number of stacked lstm layers\n",
    "n_classes = 6 #number of output classes \n",
    "dropout = 0.2\n",
    "device = torch.device(\"cuda:0\" if torch.cuda.is_available() else \"cpu\")"
   ],
   "metadata": {
    "collapsed": false,
    "pycharm": {
     "name": "#%%  \n",
     "is_executing": false
    },
    "ExecuteTime": {
     "end_time": "2023-12-20T07:03:26.912670600Z",
     "start_time": "2023-12-20T07:03:26.901441800Z"
    }
   }
  },
  {
   "cell_type": "code",
   "execution_count": 56,
   "outputs": [
    {
     "data": {
      "text/plain": "  0%|          | 0/100 [00:00<?, ?it/s]",
      "application/vnd.jupyter.widget-view+json": {
       "version_major": 2,
       "version_minor": 0,
       "model_id": "c579a6733a06456884fe384ef2172122"
      }
     },
     "metadata": {},
     "output_type": "display_data"
    },
    {
     "name": "stdout",
     "output_type": "stream",
     "text": [
      "Epoch: 0 | train loss: 1.79668, best: 1.79668 | accuracy: 0.14091, best: 0.14091\n",
      "         | valid loss: 1.78222, best: 1.78222 | accuracy: 0.17500, best: 0.17500\n",
      "Epoch: 1 | train loss: 1.78062, best: 1.78062 | accuracy: 0.23636, best: 0.23636\n",
      "         | valid loss: 1.74493, best: 1.74493 | accuracy: 0.30000, best: 0.30000\n",
      "Epoch: 2 | train loss: 1.70993, best: 1.70993 | accuracy: 0.31364, best: 0.31364\n",
      "         | valid loss: 1.60081, best: 1.60081 | accuracy: 0.35000, best: 0.35000\n",
      "Epoch: 3 | train loss: 1.62262, best: 1.62262 | accuracy: 0.37273, best: 0.37273\n",
      "         | valid loss: 1.45214, best: 1.45214 | accuracy: 0.40000, best: 0.40000\n",
      "Epoch: 4 | train loss: 1.53950, best: 1.53950 | accuracy: 0.44545, best: 0.44545\n",
      "         | valid loss: 1.32517, best: 1.32517 | accuracy: 0.45000, best: 0.45000\n",
      "Epoch: 5 | train loss: 1.48397, best: 1.48397 | accuracy: 0.51364, best: 0.51364\n",
      "         | valid loss: 1.26642, best: 1.26642 | accuracy: 0.52500, best: 0.52500\n",
      "Epoch: 6 | train loss: 1.43024, best: 1.43024 | accuracy: 0.56364, best: 0.56364\n",
      "         | valid loss: 1.21244, best: 1.21244 | accuracy: 0.60000, best: 0.60000\n",
      "Epoch: 7 | train loss: 1.38923, best: 1.38923 | accuracy: 0.57273, best: 0.57273\n",
      "         | valid loss: 1.15607, best: 1.15607 | accuracy: 0.60000, best: 0.60000\n",
      "Epoch: 8 | train loss: 1.37403, best: 1.37403 | accuracy: 0.58182, best: 0.58182\n",
      "         | valid loss: 1.12748, best: 1.12748 | accuracy: 0.55000, best: 0.60000\n",
      "Epoch: 9 | train loss: 1.36195, best: 1.36195 | accuracy: 0.59545, best: 0.59545\n",
      "         | valid loss: 1.10893, best: 1.10893 | accuracy: 0.55000, best: 0.60000\n",
      "Epoch: 10| train loss: 1.35164, best: 1.35164 | accuracy: 0.62273, best: 0.62273\n",
      "         | valid loss: 1.11918, best: 1.10893 | accuracy: 0.60000, best: 0.60000\n",
      "Epoch: 11| train loss: 1.33001, best: 1.33001 | accuracy: 0.63182, best: 0.63182\n",
      "         | valid loss: 1.09483, best: 1.09483 | accuracy: 0.50000, best: 0.60000\n",
      "Epoch: 12| train loss: 1.29837, best: 1.29837 | accuracy: 0.60455, best: 0.63182\n",
      "         | valid loss: 1.09729, best: 1.09483 | accuracy: 0.52500, best: 0.60000\n",
      "Epoch: 13| train loss: 1.31377, best: 1.29837 | accuracy: 0.61818, best: 0.63182\n",
      "         | valid loss: 1.08587, best: 1.08587 | accuracy: 0.55000, best: 0.60000\n",
      "Epoch: 14| train loss: 1.26766, best: 1.26766 | accuracy: 0.65455, best: 0.65455\n",
      "         | valid loss: 1.03574, best: 1.03574 | accuracy: 0.50000, best: 0.60000\n",
      "Epoch: 15| train loss: 1.26666, best: 1.26666 | accuracy: 0.66364, best: 0.66364\n",
      "         | valid loss: 1.02955, best: 1.02955 | accuracy: 0.60000, best: 0.60000\n",
      "Epoch: 16| train loss: 1.24386, best: 1.24386 | accuracy: 0.64545, best: 0.66364\n",
      "         | valid loss: 1.07123, best: 1.02955 | accuracy: 0.62500, best: 0.62500\n",
      "Epoch: 17| train loss: 1.24028, best: 1.24028 | accuracy: 0.66818, best: 0.66818\n",
      "         | valid loss: 1.06344, best: 1.02955 | accuracy: 0.67500, best: 0.67500\n",
      "Epoch: 18| train loss: 1.25065, best: 1.24028 | accuracy: 0.69545, best: 0.69545\n",
      "         | valid loss: 1.09834, best: 1.02955 | accuracy: 0.65000, best: 0.67500\n",
      "Epoch: 19| train loss: 1.18104, best: 1.18104 | accuracy: 0.66818, best: 0.69545\n",
      "         | valid loss: 1.09724, best: 1.02955 | accuracy: 0.65000, best: 0.67500\n",
      "Epoch: 20| train loss: 1.19902, best: 1.18104 | accuracy: 0.72273, best: 0.72273\n",
      "         | valid loss: 1.05602, best: 1.02955 | accuracy: 0.67500, best: 0.67500\n",
      "Epoch: 21| train loss: 1.20995, best: 1.18104 | accuracy: 0.70909, best: 0.72273\n",
      "         | valid loss: 1.07771, best: 1.02955 | accuracy: 0.65000, best: 0.67500\n",
      "Epoch: 22| train loss: 1.19451, best: 1.18104 | accuracy: 0.70000, best: 0.72273\n",
      "         | valid loss: 1.07658, best: 1.02955 | accuracy: 0.70000, best: 0.70000\n",
      "Epoch: 23| train loss: 1.20912, best: 1.18104 | accuracy: 0.69545, best: 0.72273\n",
      "         | valid loss: 1.03535, best: 1.02955 | accuracy: 0.70000, best: 0.70000\n",
      "Epoch: 24| train loss: 1.15725, best: 1.15725 | accuracy: 0.71818, best: 0.72273\n",
      "         | valid loss: 1.03185, best: 1.02955 | accuracy: 0.67500, best: 0.70000\n",
      "Epoch: 25| train loss: 1.16143, best: 1.15725 | accuracy: 0.74091, best: 0.74091\n",
      "         | valid loss: 1.01742, best: 1.01742 | accuracy: 0.65000, best: 0.70000\n",
      "Epoch: 26| train loss: 1.14655, best: 1.14655 | accuracy: 0.72727, best: 0.74091\n",
      "         | valid loss: 1.09497, best: 1.01742 | accuracy: 0.62500, best: 0.70000\n",
      "Epoch: 27| train loss: 1.14155, best: 1.14155 | accuracy: 0.74091, best: 0.74091\n",
      "         | valid loss: 1.08375, best: 1.01742 | accuracy: 0.62500, best: 0.70000\n",
      "Epoch: 28| train loss: 1.14107, best: 1.14107 | accuracy: 0.73182, best: 0.74091\n",
      "         | valid loss: 1.07647, best: 1.01742 | accuracy: 0.65000, best: 0.70000\n",
      "Epoch: 29| train loss: 1.14831, best: 1.14107 | accuracy: 0.77727, best: 0.77727\n",
      "         | valid loss: 1.07137, best: 1.01742 | accuracy: 0.70000, best: 0.70000\n",
      "Epoch: 30| train loss: 1.13519, best: 1.13519 | accuracy: 0.73182, best: 0.77727\n",
      "         | valid loss: 1.05579, best: 1.01742 | accuracy: 0.62500, best: 0.70000\n",
      "Epoch: 31| train loss: 1.14798, best: 1.13519 | accuracy: 0.73636, best: 0.77727\n",
      "         | valid loss: 1.10819, best: 1.01742 | accuracy: 0.65000, best: 0.70000\n",
      "Epoch: 32| train loss: 1.11568, best: 1.11568 | accuracy: 0.76364, best: 0.77727\n",
      "         | valid loss: 1.12157, best: 1.01742 | accuracy: 0.62500, best: 0.70000\n",
      "Epoch: 33| train loss: 1.06236, best: 1.06236 | accuracy: 0.75909, best: 0.77727\n",
      "         | valid loss: 1.12486, best: 1.01742 | accuracy: 0.62500, best: 0.70000\n",
      "Epoch: 34| train loss: 1.12674, best: 1.06236 | accuracy: 0.76364, best: 0.77727\n",
      "         | valid loss: 1.13893, best: 1.01742 | accuracy: 0.67500, best: 0.70000\n",
      "Epoch: 35| train loss: 1.10995, best: 1.06236 | accuracy: 0.76364, best: 0.77727\n",
      "         | valid loss: 1.10099, best: 1.01742 | accuracy: 0.67500, best: 0.70000\n",
      "Epoch: 36| train loss: 1.10600, best: 1.06236 | accuracy: 0.77273, best: 0.77727\n",
      "         | valid loss: 1.07976, best: 1.01742 | accuracy: 0.67500, best: 0.70000\n",
      "Epoch: 37| train loss: 1.04636, best: 1.04636 | accuracy: 0.79545, best: 0.79545\n",
      "         | valid loss: 1.10275, best: 1.01742 | accuracy: 0.67500, best: 0.70000\n",
      "Epoch: 38| train loss: 1.06374, best: 1.04636 | accuracy: 0.78182, best: 0.79545\n",
      "         | valid loss: 1.09650, best: 1.01742 | accuracy: 0.67500, best: 0.70000\n",
      "Epoch: 39| train loss: 1.05522, best: 1.04636 | accuracy: 0.76818, best: 0.79545\n",
      "         | valid loss: 1.09668, best: 1.01742 | accuracy: 0.67500, best: 0.70000\n",
      "Epoch: 40| train loss: 1.06615, best: 1.04636 | accuracy: 0.77727, best: 0.79545\n",
      "         | valid loss: 1.07105, best: 1.01742 | accuracy: 0.65000, best: 0.70000\n",
      "Epoch: 41| train loss: 1.02834, best: 1.02834 | accuracy: 0.79545, best: 0.79545\n",
      "         | valid loss: 1.17861, best: 1.01742 | accuracy: 0.67500, best: 0.70000\n",
      "Epoch: 42| train loss: 1.03782, best: 1.02834 | accuracy: 0.78636, best: 0.79545\n",
      "         | valid loss: 1.11406, best: 1.01742 | accuracy: 0.67500, best: 0.70000\n",
      "Epoch: 43| train loss: 1.02747, best: 1.02747 | accuracy: 0.76818, best: 0.79545\n",
      "         | valid loss: 1.10916, best: 1.01742 | accuracy: 0.67500, best: 0.70000\n",
      "Epoch: 44| train loss: 1.00767, best: 1.00767 | accuracy: 0.82727, best: 0.82727\n",
      "         | valid loss: 1.05642, best: 1.01742 | accuracy: 0.67500, best: 0.70000\n",
      "Epoch: 45| train loss: 1.02479, best: 1.00767 | accuracy: 0.79091, best: 0.82727\n",
      "         | valid loss: 1.11720, best: 1.01742 | accuracy: 0.67500, best: 0.70000\n",
      "Epoch: 46| train loss: 1.02760, best: 1.00767 | accuracy: 0.80909, best: 0.82727\n",
      "         | valid loss: 1.17432, best: 1.01742 | accuracy: 0.67500, best: 0.70000\n",
      "Epoch: 47| train loss: 1.01486, best: 1.00767 | accuracy: 0.81364, best: 0.82727\n",
      "         | valid loss: 1.17917, best: 1.01742 | accuracy: 0.70000, best: 0.70000\n",
      "Epoch: 48| train loss: 1.00186, best: 1.00186 | accuracy: 0.83182, best: 0.83182\n",
      "         | valid loss: 1.13423, best: 1.01742 | accuracy: 0.67500, best: 0.70000\n",
      "Epoch: 49| train loss: 0.98109, best: 0.98109 | accuracy: 0.81364, best: 0.83182\n",
      "         | valid loss: 1.23787, best: 1.01742 | accuracy: 0.60000, best: 0.70000\n",
      "Epoch: 50| train loss: 0.99834, best: 0.98109 | accuracy: 0.81818, best: 0.83182\n",
      "         | valid loss: 1.19177, best: 1.01742 | accuracy: 0.65000, best: 0.70000\n",
      "Epoch: 51| train loss: 1.03505, best: 0.98109 | accuracy: 0.82727, best: 0.83182\n",
      "         | valid loss: 1.20959, best: 1.01742 | accuracy: 0.65000, best: 0.70000\n",
      "Epoch: 52| train loss: 0.97023, best: 0.97023 | accuracy: 0.82273, best: 0.83182\n",
      "         | valid loss: 1.19539, best: 1.01742 | accuracy: 0.62500, best: 0.70000\n",
      "Epoch: 53| train loss: 1.01280, best: 0.97023 | accuracy: 0.84545, best: 0.84545\n",
      "         | valid loss: 1.16968, best: 1.01742 | accuracy: 0.62500, best: 0.70000\n",
      "Epoch: 54| train loss: 0.96416, best: 0.96416 | accuracy: 0.82727, best: 0.84545\n",
      "         | valid loss: 1.13292, best: 1.01742 | accuracy: 0.67500, best: 0.70000\n",
      "Epoch: 55| train loss: 0.95780, best: 0.95780 | accuracy: 0.83182, best: 0.84545\n",
      "         | valid loss: 1.25871, best: 1.01742 | accuracy: 0.65000, best: 0.70000\n",
      "Epoch: 56| train loss: 0.93124, best: 0.93124 | accuracy: 0.85909, best: 0.85909\n",
      "         | valid loss: 1.20191, best: 1.01742 | accuracy: 0.65000, best: 0.70000\n",
      "Epoch: 57| train loss: 0.97164, best: 0.93124 | accuracy: 0.83636, best: 0.85909\n",
      "         | valid loss: 1.28319, best: 1.01742 | accuracy: 0.65000, best: 0.70000\n",
      "Epoch: 58| train loss: 0.92504, best: 0.92504 | accuracy: 0.86818, best: 0.86818\n",
      "         | valid loss: 1.20042, best: 1.01742 | accuracy: 0.65000, best: 0.70000\n",
      "Epoch: 59| train loss: 0.95218, best: 0.92504 | accuracy: 0.86818, best: 0.86818\n",
      "         | valid loss: 1.18452, best: 1.01742 | accuracy: 0.60000, best: 0.70000\n",
      "Epoch: 60| train loss: 0.94157, best: 0.92504 | accuracy: 0.88182, best: 0.88182\n",
      "         | valid loss: 1.25462, best: 1.01742 | accuracy: 0.65000, best: 0.70000\n",
      "Epoch: 61| train loss: 0.93553, best: 0.92504 | accuracy: 0.88182, best: 0.88182\n",
      "         | valid loss: 1.06400, best: 1.01742 | accuracy: 0.67500, best: 0.70000\n",
      "Epoch: 62| train loss: 0.92338, best: 0.92338 | accuracy: 0.87727, best: 0.88182\n",
      "         | valid loss: 1.33096, best: 1.01742 | accuracy: 0.62500, best: 0.70000\n",
      "Epoch: 63| train loss: 0.93934, best: 0.92338 | accuracy: 0.86818, best: 0.88182\n",
      "         | valid loss: 1.30543, best: 1.01742 | accuracy: 0.65000, best: 0.70000\n",
      "Epoch: 64| train loss: 0.95431, best: 0.92338 | accuracy: 0.85000, best: 0.88182\n",
      "         | valid loss: 1.26522, best: 1.01742 | accuracy: 0.65000, best: 0.70000\n",
      "Epoch: 65| train loss: 0.93281, best: 0.92338 | accuracy: 0.85909, best: 0.88182\n",
      "         | valid loss: 1.26728, best: 1.01742 | accuracy: 0.60000, best: 0.70000\n",
      "Epoch: 66| train loss: 0.90218, best: 0.90218 | accuracy: 0.85455, best: 0.88182\n",
      "         | valid loss: 1.24167, best: 1.01742 | accuracy: 0.65000, best: 0.70000\n",
      "Epoch: 67| train loss: 0.89479, best: 0.89479 | accuracy: 0.89091, best: 0.89091\n",
      "         | valid loss: 1.23769, best: 1.01742 | accuracy: 0.65000, best: 0.70000\n",
      "Epoch: 68| train loss: 0.92422, best: 0.89479 | accuracy: 0.90000, best: 0.90000\n",
      "         | valid loss: 1.15759, best: 1.01742 | accuracy: 0.65000, best: 0.70000\n",
      "Epoch: 69| train loss: 0.90241, best: 0.89479 | accuracy: 0.89545, best: 0.90000\n",
      "         | valid loss: 1.21559, best: 1.01742 | accuracy: 0.62500, best: 0.70000\n",
      "Epoch: 70| train loss: 0.90480, best: 0.89479 | accuracy: 0.90455, best: 0.90455\n",
      "         | valid loss: 1.18150, best: 1.01742 | accuracy: 0.62500, best: 0.70000\n",
      "Epoch: 71| train loss: 0.88867, best: 0.88867 | accuracy: 0.89091, best: 0.90455\n",
      "         | valid loss: 1.35374, best: 1.01742 | accuracy: 0.57500, best: 0.70000\n",
      "Epoch: 72| train loss: 0.88627, best: 0.88627 | accuracy: 0.90000, best: 0.90455\n",
      "         | valid loss: 1.17882, best: 1.01742 | accuracy: 0.65000, best: 0.70000\n",
      "Epoch: 73| train loss: 0.89544, best: 0.88627 | accuracy: 0.90000, best: 0.90455\n",
      "         | valid loss: 1.22555, best: 1.01742 | accuracy: 0.62500, best: 0.70000\n",
      "Epoch: 74| train loss: 0.85688, best: 0.85688 | accuracy: 0.90455, best: 0.90455\n",
      "         | valid loss: 1.16220, best: 1.01742 | accuracy: 0.62500, best: 0.70000\n",
      "Epoch: 75| train loss: 0.86547, best: 0.85688 | accuracy: 0.92727, best: 0.92727\n",
      "         | valid loss: 1.25586, best: 1.01742 | accuracy: 0.65000, best: 0.70000\n",
      "Epoch: 76| train loss: 0.85643, best: 0.85643 | accuracy: 0.91364, best: 0.92727\n",
      "         | valid loss: 1.19839, best: 1.01742 | accuracy: 0.65000, best: 0.70000\n",
      "Epoch: 77| train loss: 0.88496, best: 0.85643 | accuracy: 0.92727, best: 0.92727\n",
      "         | valid loss: 1.18273, best: 1.01742 | accuracy: 0.62500, best: 0.70000\n",
      "Epoch: 78| train loss: 0.88367, best: 0.85643 | accuracy: 0.92727, best: 0.92727\n",
      "         | valid loss: 1.21216, best: 1.01742 | accuracy: 0.62500, best: 0.70000\n",
      "Epoch: 79| train loss: 0.86739, best: 0.85643 | accuracy: 0.92727, best: 0.92727\n",
      "         | valid loss: 1.34943, best: 1.01742 | accuracy: 0.62500, best: 0.70000\n",
      "Epoch: 80| train loss: 0.86273, best: 0.85643 | accuracy: 0.92727, best: 0.92727\n",
      "         | valid loss: 1.22543, best: 1.01742 | accuracy: 0.65000, best: 0.70000\n",
      "Epoch: 81| train loss: 0.87787, best: 0.85643 | accuracy: 0.91818, best: 0.92727\n",
      "         | valid loss: 1.18707, best: 1.01742 | accuracy: 0.65000, best: 0.70000\n",
      "Epoch: 82| train loss: 0.83793, best: 0.83793 | accuracy: 0.93182, best: 0.93182\n",
      "         | valid loss: 1.34044, best: 1.01742 | accuracy: 0.62500, best: 0.70000\n",
      "Epoch: 83| train loss: 0.87390, best: 0.83793 | accuracy: 0.91818, best: 0.93182\n",
      "         | valid loss: 1.21469, best: 1.01742 | accuracy: 0.65000, best: 0.70000\n",
      "Epoch: 84| train loss: 0.87529, best: 0.83793 | accuracy: 0.92273, best: 0.93182\n",
      "         | valid loss: 1.32804, best: 1.01742 | accuracy: 0.57500, best: 0.70000\n",
      "Epoch: 85| train loss: 0.85690, best: 0.83793 | accuracy: 0.91364, best: 0.93182\n",
      "         | valid loss: 1.21541, best: 1.01742 | accuracy: 0.65000, best: 0.70000\n",
      "Epoch: 86| train loss: 0.86269, best: 0.83793 | accuracy: 0.93636, best: 0.93636\n",
      "         | valid loss: 1.17714, best: 1.01742 | accuracy: 0.62500, best: 0.70000\n",
      "Epoch: 87| train loss: 0.87617, best: 0.83793 | accuracy: 0.91818, best: 0.93636\n",
      "         | valid loss: 1.20516, best: 1.01742 | accuracy: 0.67500, best: 0.70000\n",
      "Epoch: 88| train loss: 0.83930, best: 0.83793 | accuracy: 0.93636, best: 0.93636\n",
      "         | valid loss: 1.28311, best: 1.01742 | accuracy: 0.65000, best: 0.70000\n",
      "Epoch: 89| train loss: 0.84541, best: 0.83793 | accuracy: 0.93636, best: 0.93636\n",
      "         | valid loss: 1.23827, best: 1.01742 | accuracy: 0.62500, best: 0.70000\n",
      "Epoch: 90| train loss: 0.84579, best: 0.83793 | accuracy: 0.94091, best: 0.94091\n",
      "         | valid loss: 1.16554, best: 1.01742 | accuracy: 0.67500, best: 0.70000\n",
      "Epoch: 91| train loss: 0.82772, best: 0.82772 | accuracy: 0.93636, best: 0.94091\n",
      "         | valid loss: 1.24169, best: 1.01742 | accuracy: 0.60000, best: 0.70000\n",
      "Epoch: 92| train loss: 0.86059, best: 0.82772 | accuracy: 0.91364, best: 0.94091\n",
      "         | valid loss: 1.25132, best: 1.01742 | accuracy: 0.65000, best: 0.70000\n",
      "Epoch: 93| train loss: 0.84543, best: 0.82772 | accuracy: 0.94091, best: 0.94091\n",
      "         | valid loss: 1.17015, best: 1.01742 | accuracy: 0.60000, best: 0.70000\n",
      "Epoch: 94| train loss: 0.85883, best: 0.82772 | accuracy: 0.94091, best: 0.94091\n",
      "         | valid loss: 1.19158, best: 1.01742 | accuracy: 0.60000, best: 0.70000\n",
      "Epoch: 95| train loss: 0.81226, best: 0.81226 | accuracy: 0.93636, best: 0.94091\n",
      "         | valid loss: 1.32960, best: 1.01742 | accuracy: 0.57500, best: 0.70000\n",
      "Epoch: 96| train loss: 0.81626, best: 0.81226 | accuracy: 0.94091, best: 0.94091\n",
      "         | valid loss: 1.25303, best: 1.01742 | accuracy: 0.65000, best: 0.70000\n",
      "Epoch: 97| train loss: 0.85075, best: 0.81226 | accuracy: 0.93636, best: 0.94091\n",
      "         | valid loss: 1.12100, best: 1.01742 | accuracy: 0.67500, best: 0.70000\n",
      "Epoch: 98| train loss: 0.81246, best: 0.81226 | accuracy: 0.95909, best: 0.95909\n",
      "         | valid loss: 1.12367, best: 1.01742 | accuracy: 0.65000, best: 0.70000\n",
      "Epoch: 99| train loss: 0.84330, best: 0.81226 | accuracy: 0.95909, best: 0.95909\n",
      "         | valid loss: 1.22474, best: 1.01742 | accuracy: 0.65000, best: 0.70000\n"
     ]
    }
   ],
   "source": [
    "lstm = LSTM(n_features, n_classes, n_hidden, n_layers, dropout, device) #our lstm class\n",
    "lstm.to(device)\n",
    "criterion = torch.nn.CrossEntropyLoss() \n",
    "optimizer = torch.optim.Adam(lstm.parameters(), lr=learning_rate) \n",
    "accuracy = Accuracy(task=\"multiclass\", num_classes=6)\n",
    "train_loss = []\n",
    "train_acc = []\n",
    "\n",
    "trainer_path = 'D:/Workspace/TENG-Signal-Classification/trainer/'\n",
    "    \n",
    "valid_loss = []\n",
    "\n",
    "valid_acc = []                       \n",
    "\n",
    "to_one_hot = [[1,0,0,0,0,0],[0,1,0,0,0,0],[0,0,1,0,0,0],[0,0,0,1,0,0],[0,0,0,0,1,0],[0,0,0,0,0,1]]\n",
    "\n",
    "for epoch in tqdm(range(num_epochs)):\n",
    "    l = []\n",
    "    pre = []\n",
    "    mix = []\n",
    "    \n",
    "    for index, case in enumerate(train_set):\n",
    "        rand_index = random.randint(0,len(train_set) - 1)\n",
    "        x1 = X_train_tensors[index]\n",
    "        x2 = X_train_tensors[rand_index]\n",
    "        label1 = Y_train_tensors[index]\n",
    "        label2 = Y_train_tensors[rand_index]\n",
    "        one_hot1 = to_one_hot[label1]\n",
    "        one_hot2 = to_one_hot[label2]\n",
    "\n",
    "        lam = 0.8\n",
    "        x_mixed_up = lam * x1 + (1 - lam) * x2\n",
    "        y_mixed_up = lam * torch.FloatTensor(one_hot1) + (1 - lam) * torch.FloatTensor(one_hot2)\n",
    "\n",
    "        outputs = lstm.forward(x1) #forward pass\n",
    "        optimizer.zero_grad() #caluclate the gradient, manually setting to 0\n",
    "\n",
    "        # obtain the loss function\n",
    "        step_loss = criterion(torch.unsqueeze(outputs,0), torch.unsqueeze(y_mixed_up,0).to(device))\n",
    "        l.append(step_loss.item())\n",
    "\n",
    "        mixed_up = torch.argmax(y_mixed_up)\n",
    "        mix.append(mixed_up)\n",
    "        prediction = torch.argmax(outputs)\n",
    "        pre.append(prediction)\n",
    "        step_loss.backward() #calculates the loss of the loss function\n",
    "        optimizer.step() #improve from loss, i.e backprop\n",
    "\n",
    "    acc = accuracy(torch.tensor(pre), torch.tensor(mix))\n",
    "    train_acc.append(acc.item())\n",
    "    loss = np.mean(l) \n",
    "    train_loss.append(loss)\n",
    "    best_train_loss = min(train_loss)\n",
    "    \n",
    "    if epoch < 10:\n",
    "        print(\"Epoch: %d | train loss: %1.5f, best: %1.5f | accuracy: %1.5f, best: %1.5f\" % (epoch, loss, best_train_loss, acc, max(train_acc))) \n",
    "    else:\n",
    "        print(\"Epoch: %d| train loss: %1.5f, best: %1.5f | accuracy: %1.5f, best: %1.5f\" % (epoch, loss, best_train_loss, acc, max(train_acc))) \n",
    "\n",
    "    # if epoch % 5 == 0 or epoch == num_epochs - 1 :\n",
    "    _l = []\n",
    "    _pre = []\n",
    "    _acc = []\n",
    "    for index, case in enumerate(valid_set):\n",
    "\n",
    "        label = Y_valid_tensors[index]\n",
    "        one_hot = to_one_hot[label]\n",
    "        \n",
    "        outputs = lstm(X_valid_tensors[index]) #forward pass\n",
    "        step_loss = criterion(torch.unsqueeze(outputs,0), torch.unsqueeze(torch.FloatTensor(one_hot),0).to(device))\n",
    "        _l.append(step_loss.item())\n",
    "        prediction = torch.argmax(outputs)\n",
    "        \n",
    "        _pre.append(prediction)\n",
    "    \n",
    "    _acc = accuracy(torch.tensor(_pre), torch.tensor(Y_valid_tensors)) \n",
    "    valid_acc.append(_acc.item())\n",
    "    _loss = np.mean(_l)\n",
    "    if  _acc >= 0.8:\n",
    "        torch.save(lstm.state_dict(), trainer_path + 'epoch_' + str(epoch) +\n",
    "                   '_loss_' + str(_loss) + '_acc_' + str(_acc.item() * 100) + '%' + '.pt')\n",
    "    \n",
    "    valid_loss.append(_loss)\n",
    "    best_valid_loss = min(valid_loss)\n",
    "    \n",
    "    if epoch == num_epochs - 1:\n",
    "        print(\"         | valid loss: %1.5f, best: %1.5f | accuracy: %1.5f, best: %1.5f\" % (_loss, best_valid_loss, _acc, max(valid_acc))) \n",
    "    else:\n",
    "         print(\"         | valid loss: %1.5f, best: %1.5f | accuracy: %1.5f, best: %1.5f\" % (_loss, best_valid_loss, _acc, max(valid_acc)))\n"
   ],
   "metadata": {
    "collapsed": false,
    "pycharm": {
     "name": "#%%\n",
     "is_executing": false
    },
    "ExecuteTime": {
     "end_time": "2023-12-20T07:04:48.036590700Z",
     "start_time": "2023-12-20T07:03:28.074150200Z"
    }
   }
  },
  {
   "cell_type": "markdown",
   "source": [
    "## Save Loss"
   ],
   "metadata": {
    "collapsed": false
   }
  },
  {
   "cell_type": "code",
   "execution_count": 47,
   "outputs": [
    {
     "data": {
      "text/plain": "<Figure size 800x400 with 1 Axes>",
      "image/png": "[encoded data removed]"
     },
     "metadata": {},
     "output_type": "display_data"
    },
    {
     "data": {
      "text/plain": "<Figure size 800x400 with 1 Axes>",
      "image/png": "[encoded data removed]"
     },
     "metadata": {},
     "output_type": "display_data"
    }
   ],
   "source": [
    "path = 'D:/Workspace/Teng-Signal-Classification/output/'\n",
    "\n",
    "csv_file = path + 'train_loss' + '.csv'\n",
    "img_file = path + 'train_loss' + '.jpg'\n",
    "\n",
    "epoch_scale = list(range(0, len(train_loss)))\n",
    "\n",
    "plt.figure(figsize=(8, 4))\n",
    "plt.plot(epoch_scale, train_loss, epoch_scale, valid_loss)\n",
    "label = ['train loss', 'valid loss']\n",
    "plt.legend(label, loc='upper right')\n",
    "plt.savefig(path + 'loss.jpg')\n",
    "plt.show()\n",
    "\n",
    "plt.figure(figsize=(8, 4))\n",
    "plt.plot(epoch_scale, train_acc, epoch_scale, valid_acc)\n",
    "label = ['train acc', 'valid acc']\n",
    "plt.legend(label, loc='upper right')\n",
    "plt.savefig(path + 'acc.jpg')\n",
    "plt.show()\n",
    "\n",
    "Data = {\n",
    "    'train_loss': [],\n",
    "    'valid_loss': [],\n",
    "    'train_acc': [],\n",
    "    'valid_acc': [],\n",
    "\n",
    "}\n",
    "\n",
    "Data['train_loss'] = train_loss\n",
    "Data['valid_loss'] = valid_loss\n",
    "Data['train_acc'] = train_acc\n",
    "Data['valid_acc'] = valid_acc\n",
    "\n",
    "savedata = pd.DataFrame(data=Data)\n",
    "savedata.to_csv(path + 'loss&acc.csv')"
   ],
   "metadata": {
    "collapsed": false,
    "ExecuteTime": {
     "end_time": "2023-12-20T06:35:46.102619100Z",
     "start_time": "2023-12-20T06:35:45.642241700Z"
    }
   }
  }
 ],
 "metadata": {
  "kernelspec": {
   "display_name": "Python 3",
   "language": "python",
   "name": "python3"
  },
  "language_info": {
   "codemirror_mode": {
    "name": "ipython",
    "version": 2
   },
   "file_extension": ".py",
   "mimetype": "text/x-python",
   "name": "python",
   "nbconvert_exporter": "python",
   "pygments_lexer": "ipython2",
   "version": "2.7.6"
  },
  "pycharm": {
   "stem_cell": {
    "cell_type": "raw",
    "source": [],
    "metadata": {
     "collapsed": false
    }
   }
  }
 },
 "nbformat": 4,
 "nbformat_minor": 0
}
